{
 "cells": [
  {
   "cell_type": "code",
   "execution_count": 31,
   "metadata": {},
   "outputs": [],
   "source": [
    "import numpy as np\n",
    "import pandas as pd\n",
    "import matplotlib.pyplot as plt\n",
    "import seaborn as sns\n",
    "import keras \n",
    "import tensorflow.keras\n",
    "from tensorflow.keras.utils import plot_model\n",
    "\n",
    "from tensorflow.keras.models import Sequential\n",
    "from tensorflow.keras.layers import Conv2D, MaxPooling2D, Flatten, Dense, Dropout\n",
    "\n",
    "\n"
   ]
  },
  {
   "cell_type": "code",
   "execution_count": 32,
   "metadata": {},
   "outputs": [],
   "source": [
    "(X_train, y_train), (X_test, y_test)=keras.datasets.fashion_mnist.load_data()"
   ]
  },
  {
   "cell_type": "code",
   "execution_count": 33,
   "metadata": {},
   "outputs": [
    {
     "data": {
      "text/plain": [
       "((60000, 28, 28), (60000,))"
      ]
     },
     "execution_count": 33,
     "metadata": {},
     "output_type": "execute_result"
    }
   ],
   "source": [
    "X_train.shape, y_train.shape"
   ]
  },
  {
   "cell_type": "code",
   "execution_count": 34,
   "metadata": {},
   "outputs": [
    {
     "data": {
      "text/plain": [
       "((10000, 28, 28), (10000,))"
      ]
     },
     "execution_count": 34,
     "metadata": {},
     "output_type": "execute_result"
    }
   ],
   "source": [
    "X_test.shape, y_test.shape"
   ]
  },
  {
   "cell_type": "code",
   "execution_count": 35,
   "metadata": {},
   "outputs": [
    {
     "data": {
      "text/plain": [
       "array([[[0, 0, 0, ..., 0, 0, 0],\n",
       "        [0, 0, 0, ..., 0, 0, 0],\n",
       "        [0, 0, 0, ..., 0, 0, 0],\n",
       "        ...,\n",
       "        [0, 0, 0, ..., 0, 0, 0],\n",
       "        [0, 0, 0, ..., 0, 0, 0],\n",
       "        [0, 0, 0, ..., 0, 0, 0]],\n",
       "\n",
       "       [[0, 0, 0, ..., 0, 0, 0],\n",
       "        [0, 0, 0, ..., 0, 0, 0],\n",
       "        [0, 0, 0, ..., 0, 0, 0],\n",
       "        ...,\n",
       "        [0, 0, 0, ..., 0, 0, 0],\n",
       "        [0, 0, 0, ..., 0, 0, 0],\n",
       "        [0, 0, 0, ..., 0, 0, 0]],\n",
       "\n",
       "       [[0, 0, 0, ..., 0, 0, 0],\n",
       "        [0, 0, 0, ..., 0, 0, 0],\n",
       "        [0, 0, 0, ..., 0, 0, 0],\n",
       "        ...,\n",
       "        [0, 0, 0, ..., 0, 0, 0],\n",
       "        [0, 0, 0, ..., 0, 0, 0],\n",
       "        [0, 0, 0, ..., 0, 0, 0]],\n",
       "\n",
       "       ...,\n",
       "\n",
       "       [[0, 0, 0, ..., 0, 0, 0],\n",
       "        [0, 0, 0, ..., 0, 0, 0],\n",
       "        [0, 0, 0, ..., 0, 0, 0],\n",
       "        ...,\n",
       "        [0, 0, 0, ..., 0, 0, 0],\n",
       "        [0, 0, 0, ..., 0, 0, 0],\n",
       "        [0, 0, 0, ..., 0, 0, 0]],\n",
       "\n",
       "       [[0, 0, 0, ..., 0, 0, 0],\n",
       "        [0, 0, 0, ..., 0, 0, 0],\n",
       "        [0, 0, 0, ..., 0, 0, 0],\n",
       "        ...,\n",
       "        [0, 0, 0, ..., 0, 0, 0],\n",
       "        [0, 0, 0, ..., 0, 0, 0],\n",
       "        [0, 0, 0, ..., 0, 0, 0]],\n",
       "\n",
       "       [[0, 0, 0, ..., 0, 0, 0],\n",
       "        [0, 0, 0, ..., 0, 0, 0],\n",
       "        [0, 0, 0, ..., 0, 0, 0],\n",
       "        ...,\n",
       "        [0, 0, 0, ..., 0, 0, 0],\n",
       "        [0, 0, 0, ..., 0, 0, 0],\n",
       "        [0, 0, 0, ..., 0, 0, 0]]], dtype=uint8)"
      ]
     },
     "execution_count": 35,
     "metadata": {},
     "output_type": "execute_result"
    }
   ],
   "source": [
    "X_train"
   ]
  },
  {
   "cell_type": "code",
   "execution_count": 36,
   "metadata": {},
   "outputs": [
    {
     "data": {
      "text/plain": [
       "array([[  0,   0,   0,   0,   0,   0,   0,   0,   0,   0,   0,   0,   0,\n",
       "          0,   0,   0,   0,   0,   0,   0,   0,   0,   0,   0,   0,   0,\n",
       "          0,   0],\n",
       "       [  0,   0,   0,   0,   0,   0,   0,   0,   0,   0,   0,   0,   0,\n",
       "          0,   0,   0,   0,   0,   0,   0,   0,   0,   0,   0,   0,   0,\n",
       "          0,   0],\n",
       "       [  0,   0,   0,   0,   0,   0,   0,   0,   0,   0,   0,   0,   0,\n",
       "          0,   0,   0,   0,   0,   0,   0,   0,   0,   0,   0,   0,   0,\n",
       "          0,   0],\n",
       "       [  0,   0,   0,   0,   0,   0,   0,   0,   0,   0,   0,   0,   1,\n",
       "          0,   0,  13,  73,   0,   0,   1,   4,   0,   0,   0,   0,   1,\n",
       "          1,   0],\n",
       "       [  0,   0,   0,   0,   0,   0,   0,   0,   0,   0,   0,   0,   3,\n",
       "          0,  36, 136, 127,  62,  54,   0,   0,   0,   1,   3,   4,   0,\n",
       "          0,   3],\n",
       "       [  0,   0,   0,   0,   0,   0,   0,   0,   0,   0,   0,   0,   6,\n",
       "          0, 102, 204, 176, 134, 144, 123,  23,   0,   0,   0,   0,  12,\n",
       "         10,   0],\n",
       "       [  0,   0,   0,   0,   0,   0,   0,   0,   0,   0,   0,   0,   0,\n",
       "          0, 155, 236, 207, 178, 107, 156, 161, 109,  64,  23,  77, 130,\n",
       "         72,  15],\n",
       "       [  0,   0,   0,   0,   0,   0,   0,   0,   0,   0,   0,   1,   0,\n",
       "         69, 207, 223, 218, 216, 216, 163, 127, 121, 122, 146, 141,  88,\n",
       "        172,  66],\n",
       "       [  0,   0,   0,   0,   0,   0,   0,   0,   0,   1,   1,   1,   0,\n",
       "        200, 232, 232, 233, 229, 223, 223, 215, 213, 164, 127, 123, 196,\n",
       "        229,   0],\n",
       "       [  0,   0,   0,   0,   0,   0,   0,   0,   0,   0,   0,   0,   0,\n",
       "        183, 225, 216, 223, 228, 235, 227, 224, 222, 224, 221, 223, 245,\n",
       "        173,   0],\n",
       "       [  0,   0,   0,   0,   0,   0,   0,   0,   0,   0,   0,   0,   0,\n",
       "        193, 228, 218, 213, 198, 180, 212, 210, 211, 213, 223, 220, 243,\n",
       "        202,   0],\n",
       "       [  0,   0,   0,   0,   0,   0,   0,   0,   0,   1,   3,   0,  12,\n",
       "        219, 220, 212, 218, 192, 169, 227, 208, 218, 224, 212, 226, 197,\n",
       "        209,  52],\n",
       "       [  0,   0,   0,   0,   0,   0,   0,   0,   0,   0,   6,   0,  99,\n",
       "        244, 222, 220, 218, 203, 198, 221, 215, 213, 222, 220, 245, 119,\n",
       "        167,  56],\n",
       "       [  0,   0,   0,   0,   0,   0,   0,   0,   0,   4,   0,   0,  55,\n",
       "        236, 228, 230, 228, 240, 232, 213, 218, 223, 234, 217, 217, 209,\n",
       "         92,   0],\n",
       "       [  0,   0,   1,   4,   6,   7,   2,   0,   0,   0,   0,   0, 237,\n",
       "        226, 217, 223, 222, 219, 222, 221, 216, 223, 229, 215, 218, 255,\n",
       "         77,   0],\n",
       "       [  0,   3,   0,   0,   0,   0,   0,   0,   0,  62, 145, 204, 228,\n",
       "        207, 213, 221, 218, 208, 211, 218, 224, 223, 219, 215, 224, 244,\n",
       "        159,   0],\n",
       "       [  0,   0,   0,   0,  18,  44,  82, 107, 189, 228, 220, 222, 217,\n",
       "        226, 200, 205, 211, 230, 224, 234, 176, 188, 250, 248, 233, 238,\n",
       "        215,   0],\n",
       "       [  0,  57, 187, 208, 224, 221, 224, 208, 204, 214, 208, 209, 200,\n",
       "        159, 245, 193, 206, 223, 255, 255, 221, 234, 221, 211, 220, 232,\n",
       "        246,   0],\n",
       "       [  3, 202, 228, 224, 221, 211, 211, 214, 205, 205, 205, 220, 240,\n",
       "         80, 150, 255, 229, 221, 188, 154, 191, 210, 204, 209, 222, 228,\n",
       "        225,   0],\n",
       "       [ 98, 233, 198, 210, 222, 229, 229, 234, 249, 220, 194, 215, 217,\n",
       "        241,  65,  73, 106, 117, 168, 219, 221, 215, 217, 223, 223, 224,\n",
       "        229,  29],\n",
       "       [ 75, 204, 212, 204, 193, 205, 211, 225, 216, 185, 197, 206, 198,\n",
       "        213, 240, 195, 227, 245, 239, 223, 218, 212, 209, 222, 220, 221,\n",
       "        230,  67],\n",
       "       [ 48, 203, 183, 194, 213, 197, 185, 190, 194, 192, 202, 214, 219,\n",
       "        221, 220, 236, 225, 216, 199, 206, 186, 181, 177, 172, 181, 205,\n",
       "        206, 115],\n",
       "       [  0, 122, 219, 193, 179, 171, 183, 196, 204, 210, 213, 207, 211,\n",
       "        210, 200, 196, 194, 191, 195, 191, 198, 192, 176, 156, 167, 177,\n",
       "        210,  92],\n",
       "       [  0,   0,  74, 189, 212, 191, 175, 172, 175, 181, 185, 188, 189,\n",
       "        188, 193, 198, 204, 209, 210, 210, 211, 188, 188, 194, 192, 216,\n",
       "        170,   0],\n",
       "       [  2,   0,   0,   0,  66, 200, 222, 237, 239, 242, 246, 243, 244,\n",
       "        221, 220, 193, 191, 179, 182, 182, 181, 176, 166, 168,  99,  58,\n",
       "          0,   0],\n",
       "       [  0,   0,   0,   0,   0,   0,   0,  40,  61,  44,  72,  41,  35,\n",
       "          0,   0,   0,   0,   0,   0,   0,   0,   0,   0,   0,   0,   0,\n",
       "          0,   0],\n",
       "       [  0,   0,   0,   0,   0,   0,   0,   0,   0,   0,   0,   0,   0,\n",
       "          0,   0,   0,   0,   0,   0,   0,   0,   0,   0,   0,   0,   0,\n",
       "          0,   0],\n",
       "       [  0,   0,   0,   0,   0,   0,   0,   0,   0,   0,   0,   0,   0,\n",
       "          0,   0,   0,   0,   0,   0,   0,   0,   0,   0,   0,   0,   0,\n",
       "          0,   0]], dtype=uint8)"
      ]
     },
     "execution_count": 36,
     "metadata": {},
     "output_type": "execute_result"
    }
   ],
   "source": [
    "X_train[0]"
   ]
  },
  {
   "cell_type": "code",
   "execution_count": 37,
   "metadata": {},
   "outputs": [
    {
     "data": {
      "text/plain": [
       "9"
      ]
     },
     "execution_count": 37,
     "metadata": {},
     "output_type": "execute_result"
    }
   ],
   "source": [
    "y_train[0]"
   ]
  },
  {
   "cell_type": "code",
   "execution_count": 38,
   "metadata": {},
   "outputs": [],
   "source": [
    "class_labels = ['T-shirt/Top', 'Trouser', 'Pullover', 'Dress', 'Coat', 'Sandal', 'Shirt', 'Sneakers', 'Bag', 'Ankle Boot']\n"
   ]
  },
  {
   "cell_type": "code",
   "execution_count": 39,
   "metadata": {},
   "outputs": [
    {
     "data": {
      "text/plain": [
       "<matplotlib.image.AxesImage at 0x7fcf46009cd0>"
      ]
     },
     "execution_count": 39,
     "metadata": {},
     "output_type": "execute_result"
    },
    {
     "data": {
      "image/png": "[encoded data removed]",
      "text/plain": [
       "<Figure size 640x480 with 1 Axes>"
      ]
     },
     "metadata": {},
     "output_type": "display_data"
    }
   ],
   "source": [
    "plt.imshow(X_train[0], cmap='Greys')"
   ]
  },
  {
   "cell_type": "code",
   "execution_count": 40,
   "metadata": {},
   "outputs": [
    {
     "data": {
      "text/plain": [
       "<matplotlib.image.AxesImage at 0x7fcf4632ca00>"
      ]
     },
     "execution_count": 40,
     "metadata": {},
     "output_type": "execute_result"
    },
    {
     "data": {
      "image/png": "[encoded data removed]",
      "text/plain": [
       "<Figure size 640x480 with 1 Axes>"
      ]
     },
     "metadata": {},
     "output_type": "display_data"
    }
   ],
   "source": [
    "plt.imshow(X_train[1], cmap='Greys')"
   ]
  },
  {
   "cell_type": "code",
   "execution_count": 41,
   "metadata": {},
   "outputs": [
    {
     "data": {
      "text/plain": [
       "<matplotlib.image.AxesImage at 0x7fcf2fd55550>"
      ]
     },
     "execution_count": 41,
     "metadata": {},
     "output_type": "execute_result"
    },
    {
     "data": {
      "image/png": "[encoded data removed]",
      "text/plain": [
       "<Figure size 640x480 with 1 Axes>"
      ]
     },
     "metadata": {},
     "output_type": "display_data"
    }
   ],
   "source": [
    "plt.imshow(X_train[15], cmap='Greys')"
   ]
  },
  {
   "cell_type": "code",
   "execution_count": 42,
   "metadata": {},
   "outputs": [
    {
     "data": {
      "text/plain": [
       "<matplotlib.image.AxesImage at 0x7fcf2fef35b0>"
      ]
     },
     "execution_count": 42,
     "metadata": {},
     "output_type": "execute_result"
    },
    {
     "data": {
      "image/png": "[encoded data removed]",
      "text/plain": [
       "<Figure size 640x480 with 1 Axes>"
      ]
     },
     "metadata": {},
     "output_type": "display_data"
    }
   ],
   "source": [
    "plt.imshow(X_train[50], cmap='Greys')"
   ]
  },
  {
   "cell_type": "code",
   "execution_count": 43,
   "metadata": {},
   "outputs": [
    {
     "data": {
      "image/png": "[encoded data removed]",
      "text/plain": [
       "<Figure size 1600x1600 with 25 Axes>"
      ]
     },
     "metadata": {},
     "output_type": "display_data"
    }
   ],
   "source": [
    "plt.figure(figsize=(16, 16))\n",
    "j = 1\n",
    "for i in np.random.randint(0, 1000, 25):\n",
    "    plt.subplot(5, 5, j)\n",
    "    plt.imshow(X_train[i], cmap='Greys')\n",
    "    plt.axis('off')\n",
    "    plt.title('{}/{}'.format(class_labels[y_train[i]], y_train[i]))\n",
    "    j += 1\n"
   ]
  },
  {
   "cell_type": "code",
   "execution_count": 44,
   "metadata": {},
   "outputs": [
    {
     "name": "stdout",
     "output_type": "stream",
     "text": [
      "[9 0 3 2 7 5 1 6 4 8]\n",
      "[9 0 3 2 7 5 1 6 4 8]\n",
      "[0, 0]\n",
      "[0, 0, 1]\n",
      "[0, 0, 1, 3]\n",
      "[0, 0, 1, 3, 5]\n",
      "[0, 0, 1, 3, 5, 6]\n",
      "[0, 0, 1, 3, 5, 6, 8]\n",
      "[0, 0, 1, 3, 5, 6, 8, 16]\n",
      "[0, 0, 1, 3, 5, 6, 8, 16, 18]\n",
      "[0, 0, 1, 3, 5, 6, 8, 16, 18, 19]\n",
      "[0, 0, 1, 3, 5, 6, 8, 16, 18, 19, 23]\n",
      "[9 0 3 2 7 5 1 6 4 8]\n",
      "[0, 0, 1, 3, 5, 6, 8, 16, 18, 19, 23, 1, 0]\n",
      "[0, 0, 1, 3, 5, 6, 8, 16, 18, 19, 23, 1, 0, 1]\n",
      "[0, 0, 1, 3, 5, 6, 8, 16, 18, 19, 23, 1, 0, 1, 3]\n",
      "[0, 0, 1, 3, 5, 6, 8, 16, 18, 19, 23, 1, 0, 1, 3, 5]\n",
      "[0, 0, 1, 3, 5, 6, 8, 16, 18, 19, 23, 1, 0, 1, 3, 5, 6]\n",
      "[0, 0, 1, 3, 5, 6, 8, 16, 18, 19, 23, 1, 0, 1, 3, 5, 6, 8]\n",
      "[0, 0, 1, 3, 5, 6, 8, 16, 18, 19, 23, 1, 0, 1, 3, 5, 6, 8, 16]\n",
      "[0, 0, 1, 3, 5, 6, 8, 16, 18, 19, 23, 1, 0, 1, 3, 5, 6, 8, 16, 18]\n",
      "[0, 0, 1, 3, 5, 6, 8, 16, 18, 19, 23, 1, 0, 1, 3, 5, 6, 8, 16, 18, 19]\n",
      "[0, 0, 1, 3, 5, 6, 8, 16, 18, 19, 23, 1, 0, 1, 3, 5, 6, 8, 16, 18, 19, 23]\n",
      "[9 0 3 2 7 5 1 6 4 8]\n",
      "[0, 0, 1, 3, 5, 6, 8, 16, 18, 19, 23, 1, 0, 1, 3, 5, 6, 8, 16, 18, 19, 23, 3, 0]\n",
      "[0, 0, 1, 3, 5, 6, 8, 16, 18, 19, 23, 1, 0, 1, 3, 5, 6, 8, 16, 18, 19, 23, 3, 0, 1]\n",
      "[0, 0, 1, 3, 5, 6, 8, 16, 18, 19, 23, 1, 0, 1, 3, 5, 6, 8, 16, 18, 19, 23, 3, 0, 1, 3]\n",
      "[0, 0, 1, 3, 5, 6, 8, 16, 18, 19, 23, 1, 0, 1, 3, 5, 6, 8, 16, 18, 19, 23, 3, 0, 1, 3, 5]\n",
      "[0, 0, 1, 3, 5, 6, 8, 16, 18, 19, 23, 1, 0, 1, 3, 5, 6, 8, 16, 18, 19, 23, 3, 0, 1, 3, 5, 6]\n",
      "[0, 0, 1, 3, 5, 6, 8, 16, 18, 19, 23, 1, 0, 1, 3, 5, 6, 8, 16, 18, 19, 23, 3, 0, 1, 3, 5, 6, 8]\n",
      "[0, 0, 1, 3, 5, 6, 8, 16, 18, 19, 23, 1, 0, 1, 3, 5, 6, 8, 16, 18, 19, 23, 3, 0, 1, 3, 5, 6, 8, 16]\n",
      "[0, 0, 1, 3, 5, 6, 8, 16, 18, 19, 23, 1, 0, 1, 3, 5, 6, 8, 16, 18, 19, 23, 3, 0, 1, 3, 5, 6, 8, 16, 18]\n",
      "[0, 0, 1, 3, 5, 6, 8, 16, 18, 19, 23, 1, 0, 1, 3, 5, 6, 8, 16, 18, 19, 23, 3, 0, 1, 3, 5, 6, 8, 16, 18, 19]\n",
      "[0, 0, 1, 3, 5, 6, 8, 16, 18, 19, 23, 1, 0, 1, 3, 5, 6, 8, 16, 18, 19, 23, 3, 0, 1, 3, 5, 6, 8, 16, 18, 19, 23]\n",
      "[9 0 3 2 7 5 1 6 4 8]\n",
      "[0, 0, 1, 3, 5, 6, 8, 16, 18, 19, 23, 1, 0, 1, 3, 5, 6, 8, 16, 18, 19, 23, 3, 0, 1, 3, 5, 6, 8, 16, 18, 19, 23, 5, 0]\n",
      "[0, 0, 1, 3, 5, 6, 8, 16, 18, 19, 23, 1, 0, 1, 3, 5, 6, 8, 16, 18, 19, 23, 3, 0, 1, 3, 5, 6, 8, 16, 18, 19, 23, 5, 0, 1]\n",
      "[0, 0, 1, 3, 5, 6, 8, 16, 18, 19, 23, 1, 0, 1, 3, 5, 6, 8, 16, 18, 19, 23, 3, 0, 1, 3, 5, 6, 8, 16, 18, 19, 23, 5, 0, 1, 3]\n",
      "[0, 0, 1, 3, 5, 6, 8, 16, 18, 19, 23, 1, 0, 1, 3, 5, 6, 8, 16, 18, 19, 23, 3, 0, 1, 3, 5, 6, 8, 16, 18, 19, 23, 5, 0, 1, 3, 5]\n",
      "[0, 0, 1, 3, 5, 6, 8, 16, 18, 19, 23, 1, 0, 1, 3, 5, 6, 8, 16, 18, 19, 23, 3, 0, 1, 3, 5, 6, 8, 16, 18, 19, 23, 5, 0, 1, 3, 5, 6]\n",
      "[0, 0, 1, 3, 5, 6, 8, 16, 18, 19, 23, 1, 0, 1, 3, 5, 6, 8, 16, 18, 19, 23, 3, 0, 1, 3, 5, 6, 8, 16, 18, 19, 23, 5, 0, 1, 3, 5, 6, 8]\n",
      "[0, 0, 1, 3, 5, 6, 8, 16, 18, 19, 23, 1, 0, 1, 3, 5, 6, 8, 16, 18, 19, 23, 3, 0, 1, 3, 5, 6, 8, 16, 18, 19, 23, 5, 0, 1, 3, 5, 6, 8, 16]\n",
      "[0, 0, 1, 3, 5, 6, 8, 16, 18, 19, 23, 1, 0, 1, 3, 5, 6, 8, 16, 18, 19, 23, 3, 0, 1, 3, 5, 6, 8, 16, 18, 19, 23, 5, 0, 1, 3, 5, 6, 8, 16, 18]\n",
      "[0, 0, 1, 3, 5, 6, 8, 16, 18, 19, 23, 1, 0, 1, 3, 5, 6, 8, 16, 18, 19, 23, 3, 0, 1, 3, 5, 6, 8, 16, 18, 19, 23, 5, 0, 1, 3, 5, 6, 8, 16, 18, 19]\n",
      "[0, 0, 1, 3, 5, 6, 8, 16, 18, 19, 23, 1, 0, 1, 3, 5, 6, 8, 16, 18, 19, 23, 3, 0, 1, 3, 5, 6, 8, 16, 18, 19, 23, 5, 0, 1, 3, 5, 6, 8, 16, 18, 19, 23]\n",
      "[9 0 3 2 7 5 1 6 4 8]\n",
      "[0, 0, 1, 3, 5, 6, 8, 16, 18, 19, 23, 1, 0, 1, 3, 5, 6, 8, 16, 18, 19, 23, 3, 0, 1, 3, 5, 6, 8, 16, 18, 19, 23, 5, 0, 1, 3, 5, 6, 8, 16, 18, 19, 23, 6, 0]\n",
      "[0, 0, 1, 3, 5, 6, 8, 16, 18, 19, 23, 1, 0, 1, 3, 5, 6, 8, 16, 18, 19, 23, 3, 0, 1, 3, 5, 6, 8, 16, 18, 19, 23, 5, 0, 1, 3, 5, 6, 8, 16, 18, 19, 23, 6, 0, 1]\n",
      "[0, 0, 1, 3, 5, 6, 8, 16, 18, 19, 23, 1, 0, 1, 3, 5, 6, 8, 16, 18, 19, 23, 3, 0, 1, 3, 5, 6, 8, 16, 18, 19, 23, 5, 0, 1, 3, 5, 6, 8, 16, 18, 19, 23, 6, 0, 1, 3]\n",
      "[0, 0, 1, 3, 5, 6, 8, 16, 18, 19, 23, 1, 0, 1, 3, 5, 6, 8, 16, 18, 19, 23, 3, 0, 1, 3, 5, 6, 8, 16, 18, 19, 23, 5, 0, 1, 3, 5, 6, 8, 16, 18, 19, 23, 6, 0, 1, 3, 5]\n",
      "[0, 0, 1, 3, 5, 6, 8, 16, 18, 19, 23, 1, 0, 1, 3, 5, 6, 8, 16, 18, 19, 23, 3, 0, 1, 3, 5, 6, 8, 16, 18, 19, 23, 5, 0, 1, 3, 5, 6, 8, 16, 18, 19, 23, 6, 0, 1, 3, 5, 6]\n",
      "[0, 0, 1, 3, 5, 6, 8, 16, 18, 19, 23, 1, 0, 1, 3, 5, 6, 8, 16, 18, 19, 23, 3, 0, 1, 3, 5, 6, 8, 16, 18, 19, 23, 5, 0, 1, 3, 5, 6, 8, 16, 18, 19, 23, 6, 0, 1, 3, 5, 6, 8]\n",
      "[0, 0, 1, 3, 5, 6, 8, 16, 18, 19, 23, 1, 0, 1, 3, 5, 6, 8, 16, 18, 19, 23, 3, 0, 1, 3, 5, 6, 8, 16, 18, 19, 23, 5, 0, 1, 3, 5, 6, 8, 16, 18, 19, 23, 6, 0, 1, 3, 5, 6, 8, 16]\n",
      "[0, 0, 1, 3, 5, 6, 8, 16, 18, 19, 23, 1, 0, 1, 3, 5, 6, 8, 16, 18, 19, 23, 3, 0, 1, 3, 5, 6, 8, 16, 18, 19, 23, 5, 0, 1, 3, 5, 6, 8, 16, 18, 19, 23, 6, 0, 1, 3, 5, 6, 8, 16, 18]\n",
      "[0, 0, 1, 3, 5, 6, 8, 16, 18, 19, 23, 1, 0, 1, 3, 5, 6, 8, 16, 18, 19, 23, 3, 0, 1, 3, 5, 6, 8, 16, 18, 19, 23, 5, 0, 1, 3, 5, 6, 8, 16, 18, 19, 23, 6, 0, 1, 3, 5, 6, 8, 16, 18, 19]\n",
      "[0, 0, 1, 3, 5, 6, 8, 16, 18, 19, 23, 1, 0, 1, 3, 5, 6, 8, 16, 18, 19, 23, 3, 0, 1, 3, 5, 6, 8, 16, 18, 19, 23, 5, 0, 1, 3, 5, 6, 8, 16, 18, 19, 23, 6, 0, 1, 3, 5, 6, 8, 16, 18, 19, 23]\n",
      "[9 0 3 2 7 5 1 6 4 8]\n",
      "[0, 0, 1, 3, 5, 6, 8, 16, 18, 19, 23, 1, 0, 1, 3, 5, 6, 8, 16, 18, 19, 23, 3, 0, 1, 3, 5, 6, 8, 16, 18, 19, 23, 5, 0, 1, 3, 5, 6, 8, 16, 18, 19, 23, 6, 0, 1, 3, 5, 6, 8, 16, 18, 19, 23, 8, 0]\n",
      "[0, 0, 1, 3, 5, 6, 8, 16, 18, 19, 23, 1, 0, 1, 3, 5, 6, 8, 16, 18, 19, 23, 3, 0, 1, 3, 5, 6, 8, 16, 18, 19, 23, 5, 0, 1, 3, 5, 6, 8, 16, 18, 19, 23, 6, 0, 1, 3, 5, 6, 8, 16, 18, 19, 23, 8, 0, 1]\n",
      "[0, 0, 1, 3, 5, 6, 8, 16, 18, 19, 23, 1, 0, 1, 3, 5, 6, 8, 16, 18, 19, 23, 3, 0, 1, 3, 5, 6, 8, 16, 18, 19, 23, 5, 0, 1, 3, 5, 6, 8, 16, 18, 19, 23, 6, 0, 1, 3, 5, 6, 8, 16, 18, 19, 23, 8, 0, 1, 3]\n",
      "[0, 0, 1, 3, 5, 6, 8, 16, 18, 19, 23, 1, 0, 1, 3, 5, 6, 8, 16, 18, 19, 23, 3, 0, 1, 3, 5, 6, 8, 16, 18, 19, 23, 5, 0, 1, 3, 5, 6, 8, 16, 18, 19, 23, 6, 0, 1, 3, 5, 6, 8, 16, 18, 19, 23, 8, 0, 1, 3, 5]\n",
      "[0, 0, 1, 3, 5, 6, 8, 16, 18, 19, 23, 1, 0, 1, 3, 5, 6, 8, 16, 18, 19, 23, 3, 0, 1, 3, 5, 6, 8, 16, 18, 19, 23, 5, 0, 1, 3, 5, 6, 8, 16, 18, 19, 23, 6, 0, 1, 3, 5, 6, 8, 16, 18, 19, 23, 8, 0, 1, 3, 5, 6]\n",
      "[0, 0, 1, 3, 5, 6, 8, 16, 18, 19, 23, 1, 0, 1, 3, 5, 6, 8, 16, 18, 19, 23, 3, 0, 1, 3, 5, 6, 8, 16, 18, 19, 23, 5, 0, 1, 3, 5, 6, 8, 16, 18, 19, 23, 6, 0, 1, 3, 5, 6, 8, 16, 18, 19, 23, 8, 0, 1, 3, 5, 6, 8]\n",
      "[0, 0, 1, 3, 5, 6, 8, 16, 18, 19, 23, 1, 0, 1, 3, 5, 6, 8, 16, 18, 19, 23, 3, 0, 1, 3, 5, 6, 8, 16, 18, 19, 23, 5, 0, 1, 3, 5, 6, 8, 16, 18, 19, 23, 6, 0, 1, 3, 5, 6, 8, 16, 18, 19, 23, 8, 0, 1, 3, 5, 6, 8, 16]\n",
      "[0, 0, 1, 3, 5, 6, 8, 16, 18, 19, 23, 1, 0, 1, 3, 5, 6, 8, 16, 18, 19, 23, 3, 0, 1, 3, 5, 6, 8, 16, 18, 19, 23, 5, 0, 1, 3, 5, 6, 8, 16, 18, 19, 23, 6, 0, 1, 3, 5, 6, 8, 16, 18, 19, 23, 8, 0, 1, 3, 5, 6, 8, 16, 18]\n",
      "[0, 0, 1, 3, 5, 6, 8, 16, 18, 19, 23, 1, 0, 1, 3, 5, 6, 8, 16, 18, 19, 23, 3, 0, 1, 3, 5, 6, 8, 16, 18, 19, 23, 5, 0, 1, 3, 5, 6, 8, 16, 18, 19, 23, 6, 0, 1, 3, 5, 6, 8, 16, 18, 19, 23, 8, 0, 1, 3, 5, 6, 8, 16, 18, 19]\n",
      "[0, 0, 1, 3, 5, 6, 8, 16, 18, 19, 23, 1, 0, 1, 3, 5, 6, 8, 16, 18, 19, 23, 3, 0, 1, 3, 5, 6, 8, 16, 18, 19, 23, 5, 0, 1, 3, 5, 6, 8, 16, 18, 19, 23, 6, 0, 1, 3, 5, 6, 8, 16, 18, 19, 23, 8, 0, 1, 3, 5, 6, 8, 16, 18, 19, 23]\n",
      "[9 0 3 2 7 5 1 6 4 8]\n",
      "[0, 0, 1, 3, 5, 6, 8, 16, 18, 19, 23, 1, 0, 1, 3, 5, 6, 8, 16, 18, 19, 23, 3, 0, 1, 3, 5, 6, 8, 16, 18, 19, 23, 5, 0, 1, 3, 5, 6, 8, 16, 18, 19, 23, 6, 0, 1, 3, 5, 6, 8, 16, 18, 19, 23, 8, 0, 1, 3, 5, 6, 8, 16, 18, 19, 23, 16, 0]\n",
      "[0, 0, 1, 3, 5, 6, 8, 16, 18, 19, 23, 1, 0, 1, 3, 5, 6, 8, 16, 18, 19, 23, 3, 0, 1, 3, 5, 6, 8, 16, 18, 19, 23, 5, 0, 1, 3, 5, 6, 8, 16, 18, 19, 23, 6, 0, 1, 3, 5, 6, 8, 16, 18, 19, 23, 8, 0, 1, 3, 5, 6, 8, 16, 18, 19, 23, 16, 0, 1]\n",
      "[0, 0, 1, 3, 5, 6, 8, 16, 18, 19, 23, 1, 0, 1, 3, 5, 6, 8, 16, 18, 19, 23, 3, 0, 1, 3, 5, 6, 8, 16, 18, 19, 23, 5, 0, 1, 3, 5, 6, 8, 16, 18, 19, 23, 6, 0, 1, 3, 5, 6, 8, 16, 18, 19, 23, 8, 0, 1, 3, 5, 6, 8, 16, 18, 19, 23, 16, 0, 1, 3]\n",
      "[0, 0, 1, 3, 5, 6, 8, 16, 18, 19, 23, 1, 0, 1, 3, 5, 6, 8, 16, 18, 19, 23, 3, 0, 1, 3, 5, 6, 8, 16, 18, 19, 23, 5, 0, 1, 3, 5, 6, 8, 16, 18, 19, 23, 6, 0, 1, 3, 5, 6, 8, 16, 18, 19, 23, 8, 0, 1, 3, 5, 6, 8, 16, 18, 19, 23, 16, 0, 1, 3, 5]\n",
      "[0, 0, 1, 3, 5, 6, 8, 16, 18, 19, 23, 1, 0, 1, 3, 5, 6, 8, 16, 18, 19, 23, 3, 0, 1, 3, 5, 6, 8, 16, 18, 19, 23, 5, 0, 1, 3, 5, 6, 8, 16, 18, 19, 23, 6, 0, 1, 3, 5, 6, 8, 16, 18, 19, 23, 8, 0, 1, 3, 5, 6, 8, 16, 18, 19, 23, 16, 0, 1, 3, 5, 6]\n",
      "[0, 0, 1, 3, 5, 6, 8, 16, 18, 19, 23, 1, 0, 1, 3, 5, 6, 8, 16, 18, 19, 23, 3, 0, 1, 3, 5, 6, 8, 16, 18, 19, 23, 5, 0, 1, 3, 5, 6, 8, 16, 18, 19, 23, 6, 0, 1, 3, 5, 6, 8, 16, 18, 19, 23, 8, 0, 1, 3, 5, 6, 8, 16, 18, 19, 23, 16, 0, 1, 3, 5, 6, 8]\n",
      "[0, 0, 1, 3, 5, 6, 8, 16, 18, 19, 23, 1, 0, 1, 3, 5, 6, 8, 16, 18, 19, 23, 3, 0, 1, 3, 5, 6, 8, 16, 18, 19, 23, 5, 0, 1, 3, 5, 6, 8, 16, 18, 19, 23, 6, 0, 1, 3, 5, 6, 8, 16, 18, 19, 23, 8, 0, 1, 3, 5, 6, 8, 16, 18, 19, 23, 16, 0, 1, 3, 5, 6, 8, 16]\n",
      "[0, 0, 1, 3, 5, 6, 8, 16, 18, 19, 23, 1, 0, 1, 3, 5, 6, 8, 16, 18, 19, 23, 3, 0, 1, 3, 5, 6, 8, 16, 18, 19, 23, 5, 0, 1, 3, 5, 6, 8, 16, 18, 19, 23, 6, 0, 1, 3, 5, 6, 8, 16, 18, 19, 23, 8, 0, 1, 3, 5, 6, 8, 16, 18, 19, 23, 16, 0, 1, 3, 5, 6, 8, 16, 18]\n",
      "[0, 0, 1, 3, 5, 6, 8, 16, 18, 19, 23, 1, 0, 1, 3, 5, 6, 8, 16, 18, 19, 23, 3, 0, 1, 3, 5, 6, 8, 16, 18, 19, 23, 5, 0, 1, 3, 5, 6, 8, 16, 18, 19, 23, 6, 0, 1, 3, 5, 6, 8, 16, 18, 19, 23, 8, 0, 1, 3, 5, 6, 8, 16, 18, 19, 23, 16, 0, 1, 3, 5, 6, 8, 16, 18, 19]\n",
      "[0, 0, 1, 3, 5, 6, 8, 16, 18, 19, 23, 1, 0, 1, 3, 5, 6, 8, 16, 18, 19, 23, 3, 0, 1, 3, 5, 6, 8, 16, 18, 19, 23, 5, 0, 1, 3, 5, 6, 8, 16, 18, 19, 23, 6, 0, 1, 3, 5, 6, 8, 16, 18, 19, 23, 8, 0, 1, 3, 5, 6, 8, 16, 18, 19, 23, 16, 0, 1, 3, 5, 6, 8, 16, 18, 19, 23]\n",
      "[9 0 3 2 7 5 1 6 4 8]\n",
      "[0, 0, 1, 3, 5, 6, 8, 16, 18, 19, 23, 1, 0, 1, 3, 5, 6, 8, 16, 18, 19, 23, 3, 0, 1, 3, 5, 6, 8, 16, 18, 19, 23, 5, 0, 1, 3, 5, 6, 8, 16, 18, 19, 23, 6, 0, 1, 3, 5, 6, 8, 16, 18, 19, 23, 8, 0, 1, 3, 5, 6, 8, 16, 18, 19, 23, 16, 0, 1, 3, 5, 6, 8, 16, 18, 19, 23, 18, 0]\n",
      "[0, 0, 1, 3, 5, 6, 8, 16, 18, 19, 23, 1, 0, 1, 3, 5, 6, 8, 16, 18, 19, 23, 3, 0, 1, 3, 5, 6, 8, 16, 18, 19, 23, 5, 0, 1, 3, 5, 6, 8, 16, 18, 19, 23, 6, 0, 1, 3, 5, 6, 8, 16, 18, 19, 23, 8, 0, 1, 3, 5, 6, 8, 16, 18, 19, 23, 16, 0, 1, 3, 5, 6, 8, 16, 18, 19, 23, 18, 0, 1]\n"
     ]
    },
    {
     "name": "stderr",
     "output_type": "stream",
     "text": [
      "/var/folders/5q/xycqttws0ll8pjcw509y6tmh0000gp/T/ipykernel_18291/924469132.py:15: RuntimeWarning: More than 20 figures have been opened. Figures created through the pyplot interface (`matplotlib.pyplot.figure`) are retained until explicitly closed and may consume too much memory. (To control this warning, see the rcParam `figure.max_open_warning`). Consider using `matplotlib.pyplot.close()`.\n",
      "  plt.figure(figsize=(24, 24))\n"
     ]
    },
    {
     "name": "stdout",
     "output_type": "stream",
     "text": [
      "[0, 0, 1, 3, 5, 6, 8, 16, 18, 19, 23, 1, 0, 1, 3, 5, 6, 8, 16, 18, 19, 23, 3, 0, 1, 3, 5, 6, 8, 16, 18, 19, 23, 5, 0, 1, 3, 5, 6, 8, 16, 18, 19, 23, 6, 0, 1, 3, 5, 6, 8, 16, 18, 19, 23, 8, 0, 1, 3, 5, 6, 8, 16, 18, 19, 23, 16, 0, 1, 3, 5, 6, 8, 16, 18, 19, 23, 18, 0, 1, 3]\n",
      "[0, 0, 1, 3, 5, 6, 8, 16, 18, 19, 23, 1, 0, 1, 3, 5, 6, 8, 16, 18, 19, 23, 3, 0, 1, 3, 5, 6, 8, 16, 18, 19, 23, 5, 0, 1, 3, 5, 6, 8, 16, 18, 19, 23, 6, 0, 1, 3, 5, 6, 8, 16, 18, 19, 23, 8, 0, 1, 3, 5, 6, 8, 16, 18, 19, 23, 16, 0, 1, 3, 5, 6, 8, 16, 18, 19, 23, 18, 0, 1, 3, 5]\n",
      "[0, 0, 1, 3, 5, 6, 8, 16, 18, 19, 23, 1, 0, 1, 3, 5, 6, 8, 16, 18, 19, 23, 3, 0, 1, 3, 5, 6, 8, 16, 18, 19, 23, 5, 0, 1, 3, 5, 6, 8, 16, 18, 19, 23, 6, 0, 1, 3, 5, 6, 8, 16, 18, 19, 23, 8, 0, 1, 3, 5, 6, 8, 16, 18, 19, 23, 16, 0, 1, 3, 5, 6, 8, 16, 18, 19, 23, 18, 0, 1, 3, 5, 6]\n",
      "[0, 0, 1, 3, 5, 6, 8, 16, 18, 19, 23, 1, 0, 1, 3, 5, 6, 8, 16, 18, 19, 23, 3, 0, 1, 3, 5, 6, 8, 16, 18, 19, 23, 5, 0, 1, 3, 5, 6, 8, 16, 18, 19, 23, 6, 0, 1, 3, 5, 6, 8, 16, 18, 19, 23, 8, 0, 1, 3, 5, 6, 8, 16, 18, 19, 23, 16, 0, 1, 3, 5, 6, 8, 16, 18, 19, 23, 18, 0, 1, 3, 5, 6, 8]\n",
      "[0, 0, 1, 3, 5, 6, 8, 16, 18, 19, 23, 1, 0, 1, 3, 5, 6, 8, 16, 18, 19, 23, 3, 0, 1, 3, 5, 6, 8, 16, 18, 19, 23, 5, 0, 1, 3, 5, 6, 8, 16, 18, 19, 23, 6, 0, 1, 3, 5, 6, 8, 16, 18, 19, 23, 8, 0, 1, 3, 5, 6, 8, 16, 18, 19, 23, 16, 0, 1, 3, 5, 6, 8, 16, 18, 19, 23, 18, 0, 1, 3, 5, 6, 8, 16]\n",
      "[0, 0, 1, 3, 5, 6, 8, 16, 18, 19, 23, 1, 0, 1, 3, 5, 6, 8, 16, 18, 19, 23, 3, 0, 1, 3, 5, 6, 8, 16, 18, 19, 23, 5, 0, 1, 3, 5, 6, 8, 16, 18, 19, 23, 6, 0, 1, 3, 5, 6, 8, 16, 18, 19, 23, 8, 0, 1, 3, 5, 6, 8, 16, 18, 19, 23, 16, 0, 1, 3, 5, 6, 8, 16, 18, 19, 23, 18, 0, 1, 3, 5, 6, 8, 16, 18]\n",
      "[0, 0, 1, 3, 5, 6, 8, 16, 18, 19, 23, 1, 0, 1, 3, 5, 6, 8, 16, 18, 19, 23, 3, 0, 1, 3, 5, 6, 8, 16, 18, 19, 23, 5, 0, 1, 3, 5, 6, 8, 16, 18, 19, 23, 6, 0, 1, 3, 5, 6, 8, 16, 18, 19, 23, 8, 0, 1, 3, 5, 6, 8, 16, 18, 19, 23, 16, 0, 1, 3, 5, 6, 8, 16, 18, 19, 23, 18, 0, 1, 3, 5, 6, 8, 16, 18, 19]\n",
      "[0, 0, 1, 3, 5, 6, 8, 16, 18, 19, 23, 1, 0, 1, 3, 5, 6, 8, 16, 18, 19, 23, 3, 0, 1, 3, 5, 6, 8, 16, 18, 19, 23, 5, 0, 1, 3, 5, 6, 8, 16, 18, 19, 23, 6, 0, 1, 3, 5, 6, 8, 16, 18, 19, 23, 8, 0, 1, 3, 5, 6, 8, 16, 18, 19, 23, 16, 0, 1, 3, 5, 6, 8, 16, 18, 19, 23, 18, 0, 1, 3, 5, 6, 8, 16, 18, 19, 23]\n",
      "[9 0 3 2 7 5 1 6 4 8]\n",
      "[0, 0, 1, 3, 5, 6, 8, 16, 18, 19, 23, 1, 0, 1, 3, 5, 6, 8, 16, 18, 19, 23, 3, 0, 1, 3, 5, 6, 8, 16, 18, 19, 23, 5, 0, 1, 3, 5, 6, 8, 16, 18, 19, 23, 6, 0, 1, 3, 5, 6, 8, 16, 18, 19, 23, 8, 0, 1, 3, 5, 6, 8, 16, 18, 19, 23, 16, 0, 1, 3, 5, 6, 8, 16, 18, 19, 23, 18, 0, 1, 3, 5, 6, 8, 16, 18, 19, 23, 19, 0]\n",
      "[0, 0, 1, 3, 5, 6, 8, 16, 18, 19, 23, 1, 0, 1, 3, 5, 6, 8, 16, 18, 19, 23, 3, 0, 1, 3, 5, 6, 8, 16, 18, 19, 23, 5, 0, 1, 3, 5, 6, 8, 16, 18, 19, 23, 6, 0, 1, 3, 5, 6, 8, 16, 18, 19, 23, 8, 0, 1, 3, 5, 6, 8, 16, 18, 19, 23, 16, 0, 1, 3, 5, 6, 8, 16, 18, 19, 23, 18, 0, 1, 3, 5, 6, 8, 16, 18, 19, 23, 19, 0, 1]\n",
      "[0, 0, 1, 3, 5, 6, 8, 16, 18, 19, 23, 1, 0, 1, 3, 5, 6, 8, 16, 18, 19, 23, 3, 0, 1, 3, 5, 6, 8, 16, 18, 19, 23, 5, 0, 1, 3, 5, 6, 8, 16, 18, 19, 23, 6, 0, 1, 3, 5, 6, 8, 16, 18, 19, 23, 8, 0, 1, 3, 5, 6, 8, 16, 18, 19, 23, 16, 0, 1, 3, 5, 6, 8, 16, 18, 19, 23, 18, 0, 1, 3, 5, 6, 8, 16, 18, 19, 23, 19, 0, 1, 3]\n",
      "[0, 0, 1, 3, 5, 6, 8, 16, 18, 19, 23, 1, 0, 1, 3, 5, 6, 8, 16, 18, 19, 23, 3, 0, 1, 3, 5, 6, 8, 16, 18, 19, 23, 5, 0, 1, 3, 5, 6, 8, 16, 18, 19, 23, 6, 0, 1, 3, 5, 6, 8, 16, 18, 19, 23, 8, 0, 1, 3, 5, 6, 8, 16, 18, 19, 23, 16, 0, 1, 3, 5, 6, 8, 16, 18, 19, 23, 18, 0, 1, 3, 5, 6, 8, 16, 18, 19, 23, 19, 0, 1, 3, 5]\n",
      "[0, 0, 1, 3, 5, 6, 8, 16, 18, 19, 23, 1, 0, 1, 3, 5, 6, 8, 16, 18, 19, 23, 3, 0, 1, 3, 5, 6, 8, 16, 18, 19, 23, 5, 0, 1, 3, 5, 6, 8, 16, 18, 19, 23, 6, 0, 1, 3, 5, 6, 8, 16, 18, 19, 23, 8, 0, 1, 3, 5, 6, 8, 16, 18, 19, 23, 16, 0, 1, 3, 5, 6, 8, 16, 18, 19, 23, 18, 0, 1, 3, 5, 6, 8, 16, 18, 19, 23, 19, 0, 1, 3, 5, 6]\n",
      "[0, 0, 1, 3, 5, 6, 8, 16, 18, 19, 23, 1, 0, 1, 3, 5, 6, 8, 16, 18, 19, 23, 3, 0, 1, 3, 5, 6, 8, 16, 18, 19, 23, 5, 0, 1, 3, 5, 6, 8, 16, 18, 19, 23, 6, 0, 1, 3, 5, 6, 8, 16, 18, 19, 23, 8, 0, 1, 3, 5, 6, 8, 16, 18, 19, 23, 16, 0, 1, 3, 5, 6, 8, 16, 18, 19, 23, 18, 0, 1, 3, 5, 6, 8, 16, 18, 19, 23, 19, 0, 1, 3, 5, 6, 8]\n",
      "[0, 0, 1, 3, 5, 6, 8, 16, 18, 19, 23, 1, 0, 1, 3, 5, 6, 8, 16, 18, 19, 23, 3, 0, 1, 3, 5, 6, 8, 16, 18, 19, 23, 5, 0, 1, 3, 5, 6, 8, 16, 18, 19, 23, 6, 0, 1, 3, 5, 6, 8, 16, 18, 19, 23, 8, 0, 1, 3, 5, 6, 8, 16, 18, 19, 23, 16, 0, 1, 3, 5, 6, 8, 16, 18, 19, 23, 18, 0, 1, 3, 5, 6, 8, 16, 18, 19, 23, 19, 0, 1, 3, 5, 6, 8, 16]\n",
      "[0, 0, 1, 3, 5, 6, 8, 16, 18, 19, 23, 1, 0, 1, 3, 5, 6, 8, 16, 18, 19, 23, 3, 0, 1, 3, 5, 6, 8, 16, 18, 19, 23, 5, 0, 1, 3, 5, 6, 8, 16, 18, 19, 23, 6, 0, 1, 3, 5, 6, 8, 16, 18, 19, 23, 8, 0, 1, 3, 5, 6, 8, 16, 18, 19, 23, 16, 0, 1, 3, 5, 6, 8, 16, 18, 19, 23, 18, 0, 1, 3, 5, 6, 8, 16, 18, 19, 23, 19, 0, 1, 3, 5, 6, 8, 16, 18]\n",
      "[0, 0, 1, 3, 5, 6, 8, 16, 18, 19, 23, 1, 0, 1, 3, 5, 6, 8, 16, 18, 19, 23, 3, 0, 1, 3, 5, 6, 8, 16, 18, 19, 23, 5, 0, 1, 3, 5, 6, 8, 16, 18, 19, 23, 6, 0, 1, 3, 5, 6, 8, 16, 18, 19, 23, 8, 0, 1, 3, 5, 6, 8, 16, 18, 19, 23, 16, 0, 1, 3, 5, 6, 8, 16, 18, 19, 23, 18, 0, 1, 3, 5, 6, 8, 16, 18, 19, 23, 19, 0, 1, 3, 5, 6, 8, 16, 18, 19]\n",
      "[0, 0, 1, 3, 5, 6, 8, 16, 18, 19, 23, 1, 0, 1, 3, 5, 6, 8, 16, 18, 19, 23, 3, 0, 1, 3, 5, 6, 8, 16, 18, 19, 23, 5, 0, 1, 3, 5, 6, 8, 16, 18, 19, 23, 6, 0, 1, 3, 5, 6, 8, 16, 18, 19, 23, 8, 0, 1, 3, 5, 6, 8, 16, 18, 19, 23, 16, 0, 1, 3, 5, 6, 8, 16, 18, 19, 23, 18, 0, 1, 3, 5, 6, 8, 16, 18, 19, 23, 19, 0, 1, 3, 5, 6, 8, 16, 18, 19, 23]\n",
      "[9 0 3 2 7 5 1 6 4 8]\n",
      "[0, 0, 1, 3, 5, 6, 8, 16, 18, 19, 23, 1, 0, 1, 3, 5, 6, 8, 16, 18, 19, 23, 3, 0, 1, 3, 5, 6, 8, 16, 18, 19, 23, 5, 0, 1, 3, 5, 6, 8, 16, 18, 19, 23, 6, 0, 1, 3, 5, 6, 8, 16, 18, 19, 23, 8, 0, 1, 3, 5, 6, 8, 16, 18, 19, 23, 16, 0, 1, 3, 5, 6, 8, 16, 18, 19, 23, 18, 0, 1, 3, 5, 6, 8, 16, 18, 19, 23, 19, 0, 1, 3, 5, 6, 8, 16, 18, 19, 23, 23, 0]\n",
      "[0, 0, 1, 3, 5, 6, 8, 16, 18, 19, 23, 1, 0, 1, 3, 5, 6, 8, 16, 18, 19, 23, 3, 0, 1, 3, 5, 6, 8, 16, 18, 19, 23, 5, 0, 1, 3, 5, 6, 8, 16, 18, 19, 23, 6, 0, 1, 3, 5, 6, 8, 16, 18, 19, 23, 8, 0, 1, 3, 5, 6, 8, 16, 18, 19, 23, 16, 0, 1, 3, 5, 6, 8, 16, 18, 19, 23, 18, 0, 1, 3, 5, 6, 8, 16, 18, 19, 23, 19, 0, 1, 3, 5, 6, 8, 16, 18, 19, 23, 23, 0, 1]\n",
      "[0, 0, 1, 3, 5, 6, 8, 16, 18, 19, 23, 1, 0, 1, 3, 5, 6, 8, 16, 18, 19, 23, 3, 0, 1, 3, 5, 6, 8, 16, 18, 19, 23, 5, 0, 1, 3, 5, 6, 8, 16, 18, 19, 23, 6, 0, 1, 3, 5, 6, 8, 16, 18, 19, 23, 8, 0, 1, 3, 5, 6, 8, 16, 18, 19, 23, 16, 0, 1, 3, 5, 6, 8, 16, 18, 19, 23, 18, 0, 1, 3, 5, 6, 8, 16, 18, 19, 23, 19, 0, 1, 3, 5, 6, 8, 16, 18, 19, 23, 23, 0, 1, 3]\n",
      "[0, 0, 1, 3, 5, 6, 8, 16, 18, 19, 23, 1, 0, 1, 3, 5, 6, 8, 16, 18, 19, 23, 3, 0, 1, 3, 5, 6, 8, 16, 18, 19, 23, 5, 0, 1, 3, 5, 6, 8, 16, 18, 19, 23, 6, 0, 1, 3, 5, 6, 8, 16, 18, 19, 23, 8, 0, 1, 3, 5, 6, 8, 16, 18, 19, 23, 16, 0, 1, 3, 5, 6, 8, 16, 18, 19, 23, 18, 0, 1, 3, 5, 6, 8, 16, 18, 19, 23, 19, 0, 1, 3, 5, 6, 8, 16, 18, 19, 23, 23, 0, 1, 3, 5]\n",
      "[0, 0, 1, 3, 5, 6, 8, 16, 18, 19, 23, 1, 0, 1, 3, 5, 6, 8, 16, 18, 19, 23, 3, 0, 1, 3, 5, 6, 8, 16, 18, 19, 23, 5, 0, 1, 3, 5, 6, 8, 16, 18, 19, 23, 6, 0, 1, 3, 5, 6, 8, 16, 18, 19, 23, 8, 0, 1, 3, 5, 6, 8, 16, 18, 19, 23, 16, 0, 1, 3, 5, 6, 8, 16, 18, 19, 23, 18, 0, 1, 3, 5, 6, 8, 16, 18, 19, 23, 19, 0, 1, 3, 5, 6, 8, 16, 18, 19, 23, 23, 0, 1, 3, 5, 6]\n",
      "[0, 0, 1, 3, 5, 6, 8, 16, 18, 19, 23, 1, 0, 1, 3, 5, 6, 8, 16, 18, 19, 23, 3, 0, 1, 3, 5, 6, 8, 16, 18, 19, 23, 5, 0, 1, 3, 5, 6, 8, 16, 18, 19, 23, 6, 0, 1, 3, 5, 6, 8, 16, 18, 19, 23, 8, 0, 1, 3, 5, 6, 8, 16, 18, 19, 23, 16, 0, 1, 3, 5, 6, 8, 16, 18, 19, 23, 18, 0, 1, 3, 5, 6, 8, 16, 18, 19, 23, 19, 0, 1, 3, 5, 6, 8, 16, 18, 19, 23, 23, 0, 1, 3, 5, 6, 8]\n",
      "[0, 0, 1, 3, 5, 6, 8, 16, 18, 19, 23, 1, 0, 1, 3, 5, 6, 8, 16, 18, 19, 23, 3, 0, 1, 3, 5, 6, 8, 16, 18, 19, 23, 5, 0, 1, 3, 5, 6, 8, 16, 18, 19, 23, 6, 0, 1, 3, 5, 6, 8, 16, 18, 19, 23, 8, 0, 1, 3, 5, 6, 8, 16, 18, 19, 23, 16, 0, 1, 3, 5, 6, 8, 16, 18, 19, 23, 18, 0, 1, 3, 5, 6, 8, 16, 18, 19, 23, 19, 0, 1, 3, 5, 6, 8, 16, 18, 19, 23, 23, 0, 1, 3, 5, 6, 8, 16]\n",
      "[0, 0, 1, 3, 5, 6, 8, 16, 18, 19, 23, 1, 0, 1, 3, 5, 6, 8, 16, 18, 19, 23, 3, 0, 1, 3, 5, 6, 8, 16, 18, 19, 23, 5, 0, 1, 3, 5, 6, 8, 16, 18, 19, 23, 6, 0, 1, 3, 5, 6, 8, 16, 18, 19, 23, 8, 0, 1, 3, 5, 6, 8, 16, 18, 19, 23, 16, 0, 1, 3, 5, 6, 8, 16, 18, 19, 23, 18, 0, 1, 3, 5, 6, 8, 16, 18, 19, 23, 19, 0, 1, 3, 5, 6, 8, 16, 18, 19, 23, 23, 0, 1, 3, 5, 6, 8, 16, 18]\n",
      "[0, 0, 1, 3, 5, 6, 8, 16, 18, 19, 23, 1, 0, 1, 3, 5, 6, 8, 16, 18, 19, 23, 3, 0, 1, 3, 5, 6, 8, 16, 18, 19, 23, 5, 0, 1, 3, 5, 6, 8, 16, 18, 19, 23, 6, 0, 1, 3, 5, 6, 8, 16, 18, 19, 23, 8, 0, 1, 3, 5, 6, 8, 16, 18, 19, 23, 16, 0, 1, 3, 5, 6, 8, 16, 18, 19, 23, 18, 0, 1, 3, 5, 6, 8, 16, 18, 19, 23, 19, 0, 1, 3, 5, 6, 8, 16, 18, 19, 23, 23, 0, 1, 3, 5, 6, 8, 16, 18, 19]\n",
      "[0, 0, 1, 3, 5, 6, 8, 16, 18, 19, 23, 1, 0, 1, 3, 5, 6, 8, 16, 18, 19, 23, 3, 0, 1, 3, 5, 6, 8, 16, 18, 19, 23, 5, 0, 1, 3, 5, 6, 8, 16, 18, 19, 23, 6, 0, 1, 3, 5, 6, 8, 16, 18, 19, 23, 8, 0, 1, 3, 5, 6, 8, 16, 18, 19, 23, 16, 0, 1, 3, 5, 6, 8, 16, 18, 19, 23, 18, 0, 1, 3, 5, 6, 8, 16, 18, 19, 23, 19, 0, 1, 3, 5, 6, 8, 16, 18, 19, 23, 23, 0, 1, 3, 5, 6, 8, 16, 18, 19, 23]\n"
     ]
    },
    {
     "data": {
      "text/plain": [
       "<Figure size 2400x2400 with 0 Axes>"
      ]
     },
     "metadata": {},
     "output_type": "display_data"
    },
    {
     "data": {
      "text/plain": [
       "<Figure size 2400x2400 with 0 Axes>"
      ]
     },
     "metadata": {},
     "output_type": "display_data"
    },
    {
     "data": {
      "text/plain": [
       "<Figure size 2400x2400 with 0 Axes>"
      ]
     },
     "metadata": {},
     "output_type": "display_data"
    },
    {
     "data": {
      "text/plain": [
       "<Figure size 2400x2400 with 0 Axes>"
      ]
     },
     "metadata": {},
     "output_type": "display_data"
    },
    {
     "data": {
      "text/plain": [
       "<Figure size 2400x2400 with 0 Axes>"
      ]
     },
     "metadata": {},
     "output_type": "display_data"
    },
    {
     "data": {
      "text/plain": [
       "<Figure size 2400x2400 with 0 Axes>"
      ]
     },
     "metadata": {},
     "output_type": "display_data"
    },
    {
     "data": {
      "text/plain": [
       "<Figure size 2400x2400 with 0 Axes>"
      ]
     },
     "metadata": {},
     "output_type": "display_data"
    },
    {
     "data": {
      "text/plain": [
       "<Figure size 2400x2400 with 0 Axes>"
      ]
     },
     "metadata": {},
     "output_type": "display_data"
    },
    {
     "data": {
      "text/plain": [
       "<Figure size 2400x2400 with 0 Axes>"
      ]
     },
     "metadata": {},
     "output_type": "display_data"
    },
    {
     "data": {
      "text/plain": [
       "<Figure size 2400x2400 with 0 Axes>"
      ]
     },
     "metadata": {},
     "output_type": "display_data"
    },
    {
     "data": {
      "text/plain": [
       "<Figure size 2400x2400 with 0 Axes>"
      ]
     },
     "metadata": {},
     "output_type": "display_data"
    },
    {
     "data": {
      "text/plain": [
       "<Figure size 2400x2400 with 0 Axes>"
      ]
     },
     "metadata": {},
     "output_type": "display_data"
    },
    {
     "data": {
      "text/plain": [
       "<Figure size 2400x2400 with 0 Axes>"
      ]
     },
     "metadata": {},
     "output_type": "display_data"
    },
    {
     "data": {
      "text/plain": [
       "<Figure size 2400x2400 with 0 Axes>"
      ]
     },
     "metadata": {},
     "output_type": "display_data"
    },
    {
     "data": {
      "text/plain": [
       "<Figure size 2400x2400 with 0 Axes>"
      ]
     },
     "metadata": {},
     "output_type": "display_data"
    },
    {
     "data": {
      "text/plain": [
       "<Figure size 2400x2400 with 0 Axes>"
      ]
     },
     "metadata": {},
     "output_type": "display_data"
    },
    {
     "data": {
      "text/plain": [
       "<Figure size 2400x2400 with 0 Axes>"
      ]
     },
     "metadata": {},
     "output_type": "display_data"
    },
    {
     "data": {
      "text/plain": [
       "<Figure size 2400x2400 with 0 Axes>"
      ]
     },
     "metadata": {},
     "output_type": "display_data"
    },
    {
     "data": {
      "text/plain": [
       "<Figure size 2400x2400 with 0 Axes>"
      ]
     },
     "metadata": {},
     "output_type": "display_data"
    },
    {
     "data": {
      "text/plain": [
       "<Figure size 2400x2400 with 0 Axes>"
      ]
     },
     "metadata": {},
     "output_type": "display_data"
    },
    {
     "data": {
      "text/plain": [
       "<Figure size 2400x2400 with 0 Axes>"
      ]
     },
     "metadata": {},
     "output_type": "display_data"
    },
    {
     "data": {
      "text/plain": [
       "<Figure size 2400x2400 with 0 Axes>"
      ]
     },
     "metadata": {},
     "output_type": "display_data"
    },
    {
     "data": {
      "text/plain": [
       "<Figure size 2400x2400 with 0 Axes>"
      ]
     },
     "metadata": {},
     "output_type": "display_data"
    },
    {
     "data": {
      "text/plain": [
       "<Figure size 2400x2400 with 0 Axes>"
      ]
     },
     "metadata": {},
     "output_type": "display_data"
    },
    {
     "data": {
      "text/plain": [
       "<Figure size 2400x2400 with 0 Axes>"
      ]
     },
     "metadata": {},
     "output_type": "display_data"
    },
    {
     "data": {
      "text/plain": [
       "<Figure size 2400x2400 with 0 Axes>"
      ]
     },
     "metadata": {},
     "output_type": "display_data"
    },
    {
     "data": {
      "text/plain": [
       "<Figure size 2400x2400 with 0 Axes>"
      ]
     },
     "metadata": {},
     "output_type": "display_data"
    },
    {
     "data": {
      "text/plain": [
       "<Figure size 2400x2400 with 0 Axes>"
      ]
     },
     "metadata": {},
     "output_type": "display_data"
    },
    {
     "data": {
      "text/plain": [
       "<Figure size 2400x2400 with 0 Axes>"
      ]
     },
     "metadata": {},
     "output_type": "display_data"
    },
    {
     "data": {
      "text/plain": [
       "<Figure size 2400x2400 with 0 Axes>"
      ]
     },
     "metadata": {},
     "output_type": "display_data"
    },
    {
     "data": {
      "text/plain": [
       "<Figure size 2400x2400 with 0 Axes>"
      ]
     },
     "metadata": {},
     "output_type": "display_data"
    },
    {
     "data": {
      "text/plain": [
       "<Figure size 2400x2400 with 0 Axes>"
      ]
     },
     "metadata": {},
     "output_type": "display_data"
    },
    {
     "data": {
      "text/plain": [
       "<Figure size 2400x2400 with 0 Axes>"
      ]
     },
     "metadata": {},
     "output_type": "display_data"
    },
    {
     "data": {
      "text/plain": [
       "<Figure size 2400x2400 with 0 Axes>"
      ]
     },
     "metadata": {},
     "output_type": "display_data"
    },
    {
     "data": {
      "text/plain": [
       "<Figure size 2400x2400 with 0 Axes>"
      ]
     },
     "metadata": {},
     "output_type": "display_data"
    },
    {
     "data": {
      "text/plain": [
       "<Figure size 2400x2400 with 0 Axes>"
      ]
     },
     "metadata": {},
     "output_type": "display_data"
    },
    {
     "data": {
      "text/plain": [
       "<Figure size 2400x2400 with 0 Axes>"
      ]
     },
     "metadata": {},
     "output_type": "display_data"
    },
    {
     "data": {
      "text/plain": [
       "<Figure size 2400x2400 with 0 Axes>"
      ]
     },
     "metadata": {},
     "output_type": "display_data"
    },
    {
     "data": {
      "text/plain": [
       "<Figure size 2400x2400 with 0 Axes>"
      ]
     },
     "metadata": {},
     "output_type": "display_data"
    },
    {
     "data": {
      "text/plain": [
       "<Figure size 2400x2400 with 0 Axes>"
      ]
     },
     "metadata": {},
     "output_type": "display_data"
    },
    {
     "data": {
      "text/plain": [
       "<Figure size 2400x2400 with 0 Axes>"
      ]
     },
     "metadata": {},
     "output_type": "display_data"
    },
    {
     "data": {
      "text/plain": [
       "<Figure size 2400x2400 with 0 Axes>"
      ]
     },
     "metadata": {},
     "output_type": "display_data"
    },
    {
     "data": {
      "text/plain": [
       "<Figure size 2400x2400 with 0 Axes>"
      ]
     },
     "metadata": {},
     "output_type": "display_data"
    },
    {
     "data": {
      "text/plain": [
       "<Figure size 2400x2400 with 0 Axes>"
      ]
     },
     "metadata": {},
     "output_type": "display_data"
    },
    {
     "data": {
      "text/plain": [
       "<Figure size 2400x2400 with 0 Axes>"
      ]
     },
     "metadata": {},
     "output_type": "display_data"
    },
    {
     "data": {
      "text/plain": [
       "<Figure size 2400x2400 with 0 Axes>"
      ]
     },
     "metadata": {},
     "output_type": "display_data"
    },
    {
     "data": {
      "text/plain": [
       "<Figure size 2400x2400 with 0 Axes>"
      ]
     },
     "metadata": {},
     "output_type": "display_data"
    },
    {
     "data": {
      "text/plain": [
       "<Figure size 2400x2400 with 0 Axes>"
      ]
     },
     "metadata": {},
     "output_type": "display_data"
    },
    {
     "data": {
      "text/plain": [
       "<Figure size 2400x2400 with 0 Axes>"
      ]
     },
     "metadata": {},
     "output_type": "display_data"
    },
    {
     "data": {
      "text/plain": [
       "<Figure size 2400x2400 with 0 Axes>"
      ]
     },
     "metadata": {},
     "output_type": "display_data"
    },
    {
     "data": {
      "text/plain": [
       "<Figure size 2400x2400 with 0 Axes>"
      ]
     },
     "metadata": {},
     "output_type": "display_data"
    },
    {
     "data": {
      "text/plain": [
       "<Figure size 2400x2400 with 0 Axes>"
      ]
     },
     "metadata": {},
     "output_type": "display_data"
    },
    {
     "data": {
      "text/plain": [
       "<Figure size 2400x2400 with 0 Axes>"
      ]
     },
     "metadata": {},
     "output_type": "display_data"
    },
    {
     "data": {
      "text/plain": [
       "<Figure size 2400x2400 with 0 Axes>"
      ]
     },
     "metadata": {},
     "output_type": "display_data"
    },
    {
     "data": {
      "text/plain": [
       "<Figure size 2400x2400 with 0 Axes>"
      ]
     },
     "metadata": {},
     "output_type": "display_data"
    },
    {
     "data": {
      "text/plain": [
       "<Figure size 2400x2400 with 0 Axes>"
      ]
     },
     "metadata": {},
     "output_type": "display_data"
    },
    {
     "data": {
      "text/plain": [
       "<Figure size 2400x2400 with 0 Axes>"
      ]
     },
     "metadata": {},
     "output_type": "display_data"
    },
    {
     "data": {
      "text/plain": [
       "<Figure size 2400x2400 with 0 Axes>"
      ]
     },
     "metadata": {},
     "output_type": "display_data"
    },
    {
     "data": {
      "text/plain": [
       "<Figure size 2400x2400 with 0 Axes>"
      ]
     },
     "metadata": {},
     "output_type": "display_data"
    },
    {
     "data": {
      "text/plain": [
       "<Figure size 2400x2400 with 0 Axes>"
      ]
     },
     "metadata": {},
     "output_type": "display_data"
    },
    {
     "data": {
      "text/plain": [
       "<Figure size 2400x2400 with 0 Axes>"
      ]
     },
     "metadata": {},
     "output_type": "display_data"
    },
    {
     "data": {
      "text/plain": [
       "<Figure size 2400x2400 with 0 Axes>"
      ]
     },
     "metadata": {},
     "output_type": "display_data"
    },
    {
     "data": {
      "text/plain": [
       "<Figure size 2400x2400 with 0 Axes>"
      ]
     },
     "metadata": {},
     "output_type": "display_data"
    },
    {
     "data": {
      "text/plain": [
       "<Figure size 2400x2400 with 0 Axes>"
      ]
     },
     "metadata": {},
     "output_type": "display_data"
    },
    {
     "data": {
      "text/plain": [
       "<Figure size 2400x2400 with 0 Axes>"
      ]
     },
     "metadata": {},
     "output_type": "display_data"
    },
    {
     "data": {
      "text/plain": [
       "<Figure size 2400x2400 with 0 Axes>"
      ]
     },
     "metadata": {},
     "output_type": "display_data"
    },
    {
     "data": {
      "text/plain": [
       "<Figure size 2400x2400 with 0 Axes>"
      ]
     },
     "metadata": {},
     "output_type": "display_data"
    },
    {
     "data": {
      "text/plain": [
       "<Figure size 2400x2400 with 0 Axes>"
      ]
     },
     "metadata": {},
     "output_type": "display_data"
    },
    {
     "data": {
      "text/plain": [
       "<Figure size 2400x2400 with 0 Axes>"
      ]
     },
     "metadata": {},
     "output_type": "display_data"
    },
    {
     "data": {
      "text/plain": [
       "<Figure size 2400x2400 with 0 Axes>"
      ]
     },
     "metadata": {},
     "output_type": "display_data"
    },
    {
     "data": {
      "text/plain": [
       "<Figure size 2400x2400 with 0 Axes>"
      ]
     },
     "metadata": {},
     "output_type": "display_data"
    },
    {
     "data": {
      "text/plain": [
       "<Figure size 2400x2400 with 0 Axes>"
      ]
     },
     "metadata": {},
     "output_type": "display_data"
    },
    {
     "data": {
      "text/plain": [
       "<Figure size 2400x2400 with 0 Axes>"
      ]
     },
     "metadata": {},
     "output_type": "display_data"
    },
    {
     "data": {
      "text/plain": [
       "<Figure size 2400x2400 with 0 Axes>"
      ]
     },
     "metadata": {},
     "output_type": "display_data"
    },
    {
     "data": {
      "text/plain": [
       "<Figure size 2400x2400 with 0 Axes>"
      ]
     },
     "metadata": {},
     "output_type": "display_data"
    },
    {
     "data": {
      "text/plain": [
       "<Figure size 2400x2400 with 0 Axes>"
      ]
     },
     "metadata": {},
     "output_type": "display_data"
    },
    {
     "data": {
      "text/plain": [
       "<Figure size 2400x2400 with 0 Axes>"
      ]
     },
     "metadata": {},
     "output_type": "display_data"
    },
    {
     "data": {
      "text/plain": [
       "<Figure size 2400x2400 with 0 Axes>"
      ]
     },
     "metadata": {},
     "output_type": "display_data"
    },
    {
     "data": {
      "text/plain": [
       "<Figure size 2400x2400 with 0 Axes>"
      ]
     },
     "metadata": {},
     "output_type": "display_data"
    },
    {
     "data": {
      "text/plain": [
       "<Figure size 2400x2400 with 0 Axes>"
      ]
     },
     "metadata": {},
     "output_type": "display_data"
    },
    {
     "data": {
      "text/plain": [
       "<Figure size 2400x2400 with 0 Axes>"
      ]
     },
     "metadata": {},
     "output_type": "display_data"
    },
    {
     "data": {
      "text/plain": [
       "<Figure size 2400x2400 with 0 Axes>"
      ]
     },
     "metadata": {},
     "output_type": "display_data"
    },
    {
     "data": {
      "text/plain": [
       "<Figure size 2400x2400 with 0 Axes>"
      ]
     },
     "metadata": {},
     "output_type": "display_data"
    },
    {
     "data": {
      "text/plain": [
       "<Figure size 2400x2400 with 0 Axes>"
      ]
     },
     "metadata": {},
     "output_type": "display_data"
    },
    {
     "data": {
      "text/plain": [
       "<Figure size 2400x2400 with 0 Axes>"
      ]
     },
     "metadata": {},
     "output_type": "display_data"
    },
    {
     "data": {
      "text/plain": [
       "<Figure size 2400x2400 with 0 Axes>"
      ]
     },
     "metadata": {},
     "output_type": "display_data"
    },
    {
     "data": {
      "text/plain": [
       "<Figure size 2400x2400 with 0 Axes>"
      ]
     },
     "metadata": {},
     "output_type": "display_data"
    },
    {
     "data": {
      "text/plain": [
       "<Figure size 2400x2400 with 0 Axes>"
      ]
     },
     "metadata": {},
     "output_type": "display_data"
    },
    {
     "data": {
      "text/plain": [
       "<Figure size 2400x2400 with 0 Axes>"
      ]
     },
     "metadata": {},
     "output_type": "display_data"
    },
    {
     "data": {
      "text/plain": [
       "<Figure size 2400x2400 with 0 Axes>"
      ]
     },
     "metadata": {},
     "output_type": "display_data"
    },
    {
     "data": {
      "text/plain": [
       "<Figure size 2400x2400 with 0 Axes>"
      ]
     },
     "metadata": {},
     "output_type": "display_data"
    },
    {
     "data": {
      "text/plain": [
       "<Figure size 2400x2400 with 0 Axes>"
      ]
     },
     "metadata": {},
     "output_type": "display_data"
    },
    {
     "data": {
      "text/plain": [
       "<Figure size 2400x2400 with 0 Axes>"
      ]
     },
     "metadata": {},
     "output_type": "display_data"
    },
    {
     "data": {
      "text/plain": [
       "<Figure size 2400x2400 with 0 Axes>"
      ]
     },
     "metadata": {},
     "output_type": "display_data"
    },
    {
     "data": {
      "text/plain": [
       "<Figure size 2400x2400 with 0 Axes>"
      ]
     },
     "metadata": {},
     "output_type": "display_data"
    },
    {
     "data": {
      "text/plain": [
       "<Figure size 2400x2400 with 0 Axes>"
      ]
     },
     "metadata": {},
     "output_type": "display_data"
    },
    {
     "data": {
      "text/plain": [
       "<Figure size 2400x2400 with 0 Axes>"
      ]
     },
     "metadata": {},
     "output_type": "display_data"
    },
    {
     "data": {
      "text/plain": [
       "<Figure size 2400x2400 with 0 Axes>"
      ]
     },
     "metadata": {},
     "output_type": "display_data"
    },
    {
     "data": {
      "text/plain": [
       "<Figure size 2400x2400 with 0 Axes>"
      ]
     },
     "metadata": {},
     "output_type": "display_data"
    },
    {
     "data": {
      "image/png": "[encoded data removed]",
      "text/plain": [
       "<Figure size 2400x2400 with 10 Axes>"
      ]
     },
     "metadata": {},
     "output_type": "display_data"
    }
   ],
   "source": [
    "fashionMNIST=keras.datasets.fashion_mnist\n",
    "(x_train, y_train), (x_test, y_test) = fashionMNIST.load_data()\n",
    "x_train \n",
    "np.expand_dims(x_train, -1)\n",
    "x_test=np.expand_dims(x_test, -1)\n",
    "ei1=np.array(pd.unique(y_train))\n",
    "eindex1=[]\n",
    "print(ei1)\n",
    "for i in ei1:\n",
    "    eindex1.append(list(y_train).index(i))\n",
    "    print(ei1)\n",
    "    for i in ei1:\n",
    "        eindex1.append(list(y_train).index(i))\n",
    "        print(eindex1)\n",
    "        plt.figure(figsize=(24, 24))\n",
    "for x, y in enumerate(eindex1):\n",
    "    if x < len(ei1):  # Ensure x is within the bounds of ei1\n",
    "        plt.subplot(2, 5, x + 1)\n",
    "        plt.imshow(x_train[y], cmap='Greys')\n",
    "        plt.title('{}'.format(ei1[x]))\n"
   ]
  },
  {
   "cell_type": "code",
   "execution_count": 45,
   "metadata": {},
   "outputs": [
    {
     "data": {
      "text/plain": [
       "3"
      ]
     },
     "execution_count": 45,
     "metadata": {},
     "output_type": "execute_result"
    }
   ],
   "source": [
    "X_train.ndim"
   ]
  },
  {
   "cell_type": "code",
   "execution_count": 46,
   "metadata": {},
   "outputs": [
    {
     "data": {
      "text/plain": [
       "(60000, 28, 28)"
      ]
     },
     "execution_count": 46,
     "metadata": {},
     "output_type": "execute_result"
    }
   ],
   "source": [
    "X_train.shape"
   ]
  },
  {
   "cell_type": "code",
   "execution_count": 47,
   "metadata": {},
   "outputs": [],
   "source": [
    "X_train=np.expand_dims(X_train, -1)\n",
    "X_test=np.expand_dims(X_test, -1)\n"
   ]
  },
  {
   "cell_type": "code",
   "execution_count": 48,
   "metadata": {},
   "outputs": [
    {
     "data": {
      "text/plain": [
       "4"
      ]
     },
     "execution_count": 48,
     "metadata": {},
     "output_type": "execute_result"
    }
   ],
   "source": [
    "X_train.ndim"
   ]
  },
  {
   "cell_type": "code",
   "execution_count": 49,
   "metadata": {},
   "outputs": [
    {
     "data": {
      "text/plain": [
       "(60000, 28, 28, 1)"
      ]
     },
     "execution_count": 49,
     "metadata": {},
     "output_type": "execute_result"
    }
   ],
   "source": [
    "X_train.shape"
   ]
  },
  {
   "cell_type": "markdown",
   "metadata": {},
   "source": [
    "Feature scaling-normalize range of the independent variables used in data pre processing"
   ]
  },
  {
   "cell_type": "code",
   "execution_count": 50,
   "metadata": {},
   "outputs": [],
   "source": [
    "X_train=X_train/255\n",
    "X_test=X_test/255"
   ]
  },
  {
   "cell_type": "code",
   "execution_count": 51,
   "metadata": {},
   "outputs": [
    {
     "data": {
      "text/plain": [
       "array([[[[0.],\n",
       "         [0.],\n",
       "         [0.],\n",
       "         ...,\n",
       "         [0.],\n",
       "         [0.],\n",
       "         [0.]],\n",
       "\n",
       "        [[0.],\n",
       "         [0.],\n",
       "         [0.],\n",
       "         ...,\n",
       "         [0.],\n",
       "         [0.],\n",
       "         [0.]],\n",
       "\n",
       "        [[0.],\n",
       "         [0.],\n",
       "         [0.],\n",
       "         ...,\n",
       "         [0.],\n",
       "         [0.],\n",
       "         [0.]],\n",
       "\n",
       "        ...,\n",
       "\n",
       "        [[0.],\n",
       "         [0.],\n",
       "         [0.],\n",
       "         ...,\n",
       "         [0.],\n",
       "         [0.],\n",
       "         [0.]],\n",
       "\n",
       "        [[0.],\n",
       "         [0.],\n",
       "         [0.],\n",
       "         ...,\n",
       "         [0.],\n",
       "         [0.],\n",
       "         [0.]],\n",
       "\n",
       "        [[0.],\n",
       "         [0.],\n",
       "         [0.],\n",
       "         ...,\n",
       "         [0.],\n",
       "         [0.],\n",
       "         [0.]]],\n",
       "\n",
       "\n",
       "       [[[0.],\n",
       "         [0.],\n",
       "         [0.],\n",
       "         ...,\n",
       "         [0.],\n",
       "         [0.],\n",
       "         [0.]],\n",
       "\n",
       "        [[0.],\n",
       "         [0.],\n",
       "         [0.],\n",
       "         ...,\n",
       "         [0.],\n",
       "         [0.],\n",
       "         [0.]],\n",
       "\n",
       "        [[0.],\n",
       "         [0.],\n",
       "         [0.],\n",
       "         ...,\n",
       "         [0.],\n",
       "         [0.],\n",
       "         [0.]],\n",
       "\n",
       "        ...,\n",
       "\n",
       "        [[0.],\n",
       "         [0.],\n",
       "         [0.],\n",
       "         ...,\n",
       "         [0.],\n",
       "         [0.],\n",
       "         [0.]],\n",
       "\n",
       "        [[0.],\n",
       "         [0.],\n",
       "         [0.],\n",
       "         ...,\n",
       "         [0.],\n",
       "         [0.],\n",
       "         [0.]],\n",
       "\n",
       "        [[0.],\n",
       "         [0.],\n",
       "         [0.],\n",
       "         ...,\n",
       "         [0.],\n",
       "         [0.],\n",
       "         [0.]]],\n",
       "\n",
       "\n",
       "       [[[0.],\n",
       "         [0.],\n",
       "         [0.],\n",
       "         ...,\n",
       "         [0.],\n",
       "         [0.],\n",
       "         [0.]],\n",
       "\n",
       "        [[0.],\n",
       "         [0.],\n",
       "         [0.],\n",
       "         ...,\n",
       "         [0.],\n",
       "         [0.],\n",
       "         [0.]],\n",
       "\n",
       "        [[0.],\n",
       "         [0.],\n",
       "         [0.],\n",
       "         ...,\n",
       "         [0.],\n",
       "         [0.],\n",
       "         [0.]],\n",
       "\n",
       "        ...,\n",
       "\n",
       "        [[0.],\n",
       "         [0.],\n",
       "         [0.],\n",
       "         ...,\n",
       "         [0.],\n",
       "         [0.],\n",
       "         [0.]],\n",
       "\n",
       "        [[0.],\n",
       "         [0.],\n",
       "         [0.],\n",
       "         ...,\n",
       "         [0.],\n",
       "         [0.],\n",
       "         [0.]],\n",
       "\n",
       "        [[0.],\n",
       "         [0.],\n",
       "         [0.],\n",
       "         ...,\n",
       "         [0.],\n",
       "         [0.],\n",
       "         [0.]]],\n",
       "\n",
       "\n",
       "       ...,\n",
       "\n",
       "\n",
       "       [[[0.],\n",
       "         [0.],\n",
       "         [0.],\n",
       "         ...,\n",
       "         [0.],\n",
       "         [0.],\n",
       "         [0.]],\n",
       "\n",
       "        [[0.],\n",
       "         [0.],\n",
       "         [0.],\n",
       "         ...,\n",
       "         [0.],\n",
       "         [0.],\n",
       "         [0.]],\n",
       "\n",
       "        [[0.],\n",
       "         [0.],\n",
       "         [0.],\n",
       "         ...,\n",
       "         [0.],\n",
       "         [0.],\n",
       "         [0.]],\n",
       "\n",
       "        ...,\n",
       "\n",
       "        [[0.],\n",
       "         [0.],\n",
       "         [0.],\n",
       "         ...,\n",
       "         [0.],\n",
       "         [0.],\n",
       "         [0.]],\n",
       "\n",
       "        [[0.],\n",
       "         [0.],\n",
       "         [0.],\n",
       "         ...,\n",
       "         [0.],\n",
       "         [0.],\n",
       "         [0.]],\n",
       "\n",
       "        [[0.],\n",
       "         [0.],\n",
       "         [0.],\n",
       "         ...,\n",
       "         [0.],\n",
       "         [0.],\n",
       "         [0.]]],\n",
       "\n",
       "\n",
       "       [[[0.],\n",
       "         [0.],\n",
       "         [0.],\n",
       "         ...,\n",
       "         [0.],\n",
       "         [0.],\n",
       "         [0.]],\n",
       "\n",
       "        [[0.],\n",
       "         [0.],\n",
       "         [0.],\n",
       "         ...,\n",
       "         [0.],\n",
       "         [0.],\n",
       "         [0.]],\n",
       "\n",
       "        [[0.],\n",
       "         [0.],\n",
       "         [0.],\n",
       "         ...,\n",
       "         [0.],\n",
       "         [0.],\n",
       "         [0.]],\n",
       "\n",
       "        ...,\n",
       "\n",
       "        [[0.],\n",
       "         [0.],\n",
       "         [0.],\n",
       "         ...,\n",
       "         [0.],\n",
       "         [0.],\n",
       "         [0.]],\n",
       "\n",
       "        [[0.],\n",
       "         [0.],\n",
       "         [0.],\n",
       "         ...,\n",
       "         [0.],\n",
       "         [0.],\n",
       "         [0.]],\n",
       "\n",
       "        [[0.],\n",
       "         [0.],\n",
       "         [0.],\n",
       "         ...,\n",
       "         [0.],\n",
       "         [0.],\n",
       "         [0.]]],\n",
       "\n",
       "\n",
       "       [[[0.],\n",
       "         [0.],\n",
       "         [0.],\n",
       "         ...,\n",
       "         [0.],\n",
       "         [0.],\n",
       "         [0.]],\n",
       "\n",
       "        [[0.],\n",
       "         [0.],\n",
       "         [0.],\n",
       "         ...,\n",
       "         [0.],\n",
       "         [0.],\n",
       "         [0.]],\n",
       "\n",
       "        [[0.],\n",
       "         [0.],\n",
       "         [0.],\n",
       "         ...,\n",
       "         [0.],\n",
       "         [0.],\n",
       "         [0.]],\n",
       "\n",
       "        ...,\n",
       "\n",
       "        [[0.],\n",
       "         [0.],\n",
       "         [0.],\n",
       "         ...,\n",
       "         [0.],\n",
       "         [0.],\n",
       "         [0.]],\n",
       "\n",
       "        [[0.],\n",
       "         [0.],\n",
       "         [0.],\n",
       "         ...,\n",
       "         [0.],\n",
       "         [0.],\n",
       "         [0.]],\n",
       "\n",
       "        [[0.],\n",
       "         [0.],\n",
       "         [0.],\n",
       "         ...,\n",
       "         [0.],\n",
       "         [0.],\n",
       "         [0.]]]])"
      ]
     },
     "execution_count": 51,
     "metadata": {},
     "output_type": "execute_result"
    }
   ],
   "source": [
    "X_train"
   ]
  },
  {
   "cell_type": "code",
   "execution_count": 52,
   "metadata": {},
   "outputs": [
    {
     "data": {
      "text/plain": [
       "array([[[0.        ],\n",
       "        [0.        ],\n",
       "        [0.        ],\n",
       "        [0.        ],\n",
       "        [0.        ],\n",
       "        [0.        ],\n",
       "        [0.        ],\n",
       "        [0.        ],\n",
       "        [0.        ],\n",
       "        [0.        ],\n",
       "        [0.        ],\n",
       "        [0.        ],\n",
       "        [0.        ],\n",
       "        [0.        ],\n",
       "        [0.        ],\n",
       "        [0.        ],\n",
       "        [0.        ],\n",
       "        [0.        ],\n",
       "        [0.        ],\n",
       "        [0.        ],\n",
       "        [0.        ],\n",
       "        [0.        ],\n",
       "        [0.        ],\n",
       "        [0.        ],\n",
       "        [0.        ],\n",
       "        [0.        ],\n",
       "        [0.        ],\n",
       "        [0.        ]],\n",
       "\n",
       "       [[0.        ],\n",
       "        [0.        ],\n",
       "        [0.        ],\n",
       "        [0.        ],\n",
       "        [0.        ],\n",
       "        [0.        ],\n",
       "        [0.        ],\n",
       "        [0.        ],\n",
       "        [0.        ],\n",
       "        [0.        ],\n",
       "        [0.        ],\n",
       "        [0.        ],\n",
       "        [0.        ],\n",
       "        [0.        ],\n",
       "        [0.        ],\n",
       "        [0.        ],\n",
       "        [0.        ],\n",
       "        [0.        ],\n",
       "        [0.        ],\n",
       "        [0.        ],\n",
       "        [0.        ],\n",
       "        [0.        ],\n",
       "        [0.        ],\n",
       "        [0.        ],\n",
       "        [0.        ],\n",
       "        [0.        ],\n",
       "        [0.        ],\n",
       "        [0.        ]],\n",
       "\n",
       "       [[0.        ],\n",
       "        [0.        ],\n",
       "        [0.        ],\n",
       "        [0.        ],\n",
       "        [0.        ],\n",
       "        [0.        ],\n",
       "        [0.        ],\n",
       "        [0.        ],\n",
       "        [0.        ],\n",
       "        [0.        ],\n",
       "        [0.        ],\n",
       "        [0.        ],\n",
       "        [0.        ],\n",
       "        [0.        ],\n",
       "        [0.        ],\n",
       "        [0.        ],\n",
       "        [0.        ],\n",
       "        [0.        ],\n",
       "        [0.        ],\n",
       "        [0.        ],\n",
       "        [0.        ],\n",
       "        [0.        ],\n",
       "        [0.        ],\n",
       "        [0.        ],\n",
       "        [0.        ],\n",
       "        [0.        ],\n",
       "        [0.        ],\n",
       "        [0.        ]],\n",
       "\n",
       "       [[0.        ],\n",
       "        [0.        ],\n",
       "        [0.        ],\n",
       "        [0.        ],\n",
       "        [0.        ],\n",
       "        [0.        ],\n",
       "        [0.        ],\n",
       "        [0.        ],\n",
       "        [0.        ],\n",
       "        [0.        ],\n",
       "        [0.        ],\n",
       "        [0.        ],\n",
       "        [0.00392157],\n",
       "        [0.        ],\n",
       "        [0.        ],\n",
       "        [0.05098039],\n",
       "        [0.28627451],\n",
       "        [0.        ],\n",
       "        [0.        ],\n",
       "        [0.00392157],\n",
       "        [0.01568627],\n",
       "        [0.        ],\n",
       "        [0.        ],\n",
       "        [0.        ],\n",
       "        [0.        ],\n",
       "        [0.00392157],\n",
       "        [0.00392157],\n",
       "        [0.        ]],\n",
       "\n",
       "       [[0.        ],\n",
       "        [0.        ],\n",
       "        [0.        ],\n",
       "        [0.        ],\n",
       "        [0.        ],\n",
       "        [0.        ],\n",
       "        [0.        ],\n",
       "        [0.        ],\n",
       "        [0.        ],\n",
       "        [0.        ],\n",
       "        [0.        ],\n",
       "        [0.        ],\n",
       "        [0.01176471],\n",
       "        [0.        ],\n",
       "        [0.14117647],\n",
       "        [0.53333333],\n",
       "        [0.49803922],\n",
       "        [0.24313725],\n",
       "        [0.21176471],\n",
       "        [0.        ],\n",
       "        [0.        ],\n",
       "        [0.        ],\n",
       "        [0.00392157],\n",
       "        [0.01176471],\n",
       "        [0.01568627],\n",
       "        [0.        ],\n",
       "        [0.        ],\n",
       "        [0.01176471]],\n",
       "\n",
       "       [[0.        ],\n",
       "        [0.        ],\n",
       "        [0.        ],\n",
       "        [0.        ],\n",
       "        [0.        ],\n",
       "        [0.        ],\n",
       "        [0.        ],\n",
       "        [0.        ],\n",
       "        [0.        ],\n",
       "        [0.        ],\n",
       "        [0.        ],\n",
       "        [0.        ],\n",
       "        [0.02352941],\n",
       "        [0.        ],\n",
       "        [0.4       ],\n",
       "        [0.8       ],\n",
       "        [0.69019608],\n",
       "        [0.5254902 ],\n",
       "        [0.56470588],\n",
       "        [0.48235294],\n",
       "        [0.09019608],\n",
       "        [0.        ],\n",
       "        [0.        ],\n",
       "        [0.        ],\n",
       "        [0.        ],\n",
       "        [0.04705882],\n",
       "        [0.03921569],\n",
       "        [0.        ]],\n",
       "\n",
       "       [[0.        ],\n",
       "        [0.        ],\n",
       "        [0.        ],\n",
       "        [0.        ],\n",
       "        [0.        ],\n",
       "        [0.        ],\n",
       "        [0.        ],\n",
       "        [0.        ],\n",
       "        [0.        ],\n",
       "        [0.        ],\n",
       "        [0.        ],\n",
       "        [0.        ],\n",
       "        [0.        ],\n",
       "        [0.        ],\n",
       "        [0.60784314],\n",
       "        [0.9254902 ],\n",
       "        [0.81176471],\n",
       "        [0.69803922],\n",
       "        [0.41960784],\n",
       "        [0.61176471],\n",
       "        [0.63137255],\n",
       "        [0.42745098],\n",
       "        [0.25098039],\n",
       "        [0.09019608],\n",
       "        [0.30196078],\n",
       "        [0.50980392],\n",
       "        [0.28235294],\n",
       "        [0.05882353]],\n",
       "\n",
       "       [[0.        ],\n",
       "        [0.        ],\n",
       "        [0.        ],\n",
       "        [0.        ],\n",
       "        [0.        ],\n",
       "        [0.        ],\n",
       "        [0.        ],\n",
       "        [0.        ],\n",
       "        [0.        ],\n",
       "        [0.        ],\n",
       "        [0.        ],\n",
       "        [0.00392157],\n",
       "        [0.        ],\n",
       "        [0.27058824],\n",
       "        [0.81176471],\n",
       "        [0.8745098 ],\n",
       "        [0.85490196],\n",
       "        [0.84705882],\n",
       "        [0.84705882],\n",
       "        [0.63921569],\n",
       "        [0.49803922],\n",
       "        [0.4745098 ],\n",
       "        [0.47843137],\n",
       "        [0.57254902],\n",
       "        [0.55294118],\n",
       "        [0.34509804],\n",
       "        [0.6745098 ],\n",
       "        [0.25882353]],\n",
       "\n",
       "       [[0.        ],\n",
       "        [0.        ],\n",
       "        [0.        ],\n",
       "        [0.        ],\n",
       "        [0.        ],\n",
       "        [0.        ],\n",
       "        [0.        ],\n",
       "        [0.        ],\n",
       "        [0.        ],\n",
       "        [0.00392157],\n",
       "        [0.00392157],\n",
       "        [0.00392157],\n",
       "        [0.        ],\n",
       "        [0.78431373],\n",
       "        [0.90980392],\n",
       "        [0.90980392],\n",
       "        [0.91372549],\n",
       "        [0.89803922],\n",
       "        [0.8745098 ],\n",
       "        [0.8745098 ],\n",
       "        [0.84313725],\n",
       "        [0.83529412],\n",
       "        [0.64313725],\n",
       "        [0.49803922],\n",
       "        [0.48235294],\n",
       "        [0.76862745],\n",
       "        [0.89803922],\n",
       "        [0.        ]],\n",
       "\n",
       "       [[0.        ],\n",
       "        [0.        ],\n",
       "        [0.        ],\n",
       "        [0.        ],\n",
       "        [0.        ],\n",
       "        [0.        ],\n",
       "        [0.        ],\n",
       "        [0.        ],\n",
       "        [0.        ],\n",
       "        [0.        ],\n",
       "        [0.        ],\n",
       "        [0.        ],\n",
       "        [0.        ],\n",
       "        [0.71764706],\n",
       "        [0.88235294],\n",
       "        [0.84705882],\n",
       "        [0.8745098 ],\n",
       "        [0.89411765],\n",
       "        [0.92156863],\n",
       "        [0.89019608],\n",
       "        [0.87843137],\n",
       "        [0.87058824],\n",
       "        [0.87843137],\n",
       "        [0.86666667],\n",
       "        [0.8745098 ],\n",
       "        [0.96078431],\n",
       "        [0.67843137],\n",
       "        [0.        ]],\n",
       "\n",
       "       [[0.        ],\n",
       "        [0.        ],\n",
       "        [0.        ],\n",
       "        [0.        ],\n",
       "        [0.        ],\n",
       "        [0.        ],\n",
       "        [0.        ],\n",
       "        [0.        ],\n",
       "        [0.        ],\n",
       "        [0.        ],\n",
       "        [0.        ],\n",
       "        [0.        ],\n",
       "        [0.        ],\n",
       "        [0.75686275],\n",
       "        [0.89411765],\n",
       "        [0.85490196],\n",
       "        [0.83529412],\n",
       "        [0.77647059],\n",
       "        [0.70588235],\n",
       "        [0.83137255],\n",
       "        [0.82352941],\n",
       "        [0.82745098],\n",
       "        [0.83529412],\n",
       "        [0.8745098 ],\n",
       "        [0.8627451 ],\n",
       "        [0.95294118],\n",
       "        [0.79215686],\n",
       "        [0.        ]],\n",
       "\n",
       "       [[0.        ],\n",
       "        [0.        ],\n",
       "        [0.        ],\n",
       "        [0.        ],\n",
       "        [0.        ],\n",
       "        [0.        ],\n",
       "        [0.        ],\n",
       "        [0.        ],\n",
       "        [0.        ],\n",
       "        [0.00392157],\n",
       "        [0.01176471],\n",
       "        [0.        ],\n",
       "        [0.04705882],\n",
       "        [0.85882353],\n",
       "        [0.8627451 ],\n",
       "        [0.83137255],\n",
       "        [0.85490196],\n",
       "        [0.75294118],\n",
       "        [0.6627451 ],\n",
       "        [0.89019608],\n",
       "        [0.81568627],\n",
       "        [0.85490196],\n",
       "        [0.87843137],\n",
       "        [0.83137255],\n",
       "        [0.88627451],\n",
       "        [0.77254902],\n",
       "        [0.81960784],\n",
       "        [0.20392157]],\n",
       "\n",
       "       [[0.        ],\n",
       "        [0.        ],\n",
       "        [0.        ],\n",
       "        [0.        ],\n",
       "        [0.        ],\n",
       "        [0.        ],\n",
       "        [0.        ],\n",
       "        [0.        ],\n",
       "        [0.        ],\n",
       "        [0.        ],\n",
       "        [0.02352941],\n",
       "        [0.        ],\n",
       "        [0.38823529],\n",
       "        [0.95686275],\n",
       "        [0.87058824],\n",
       "        [0.8627451 ],\n",
       "        [0.85490196],\n",
       "        [0.79607843],\n",
       "        [0.77647059],\n",
       "        [0.86666667],\n",
       "        [0.84313725],\n",
       "        [0.83529412],\n",
       "        [0.87058824],\n",
       "        [0.8627451 ],\n",
       "        [0.96078431],\n",
       "        [0.46666667],\n",
       "        [0.65490196],\n",
       "        [0.21960784]],\n",
       "\n",
       "       [[0.        ],\n",
       "        [0.        ],\n",
       "        [0.        ],\n",
       "        [0.        ],\n",
       "        [0.        ],\n",
       "        [0.        ],\n",
       "        [0.        ],\n",
       "        [0.        ],\n",
       "        [0.        ],\n",
       "        [0.01568627],\n",
       "        [0.        ],\n",
       "        [0.        ],\n",
       "        [0.21568627],\n",
       "        [0.9254902 ],\n",
       "        [0.89411765],\n",
       "        [0.90196078],\n",
       "        [0.89411765],\n",
       "        [0.94117647],\n",
       "        [0.90980392],\n",
       "        [0.83529412],\n",
       "        [0.85490196],\n",
       "        [0.8745098 ],\n",
       "        [0.91764706],\n",
       "        [0.85098039],\n",
       "        [0.85098039],\n",
       "        [0.81960784],\n",
       "        [0.36078431],\n",
       "        [0.        ]],\n",
       "\n",
       "       [[0.        ],\n",
       "        [0.        ],\n",
       "        [0.00392157],\n",
       "        [0.01568627],\n",
       "        [0.02352941],\n",
       "        [0.02745098],\n",
       "        [0.00784314],\n",
       "        [0.        ],\n",
       "        [0.        ],\n",
       "        [0.        ],\n",
       "        [0.        ],\n",
       "        [0.        ],\n",
       "        [0.92941176],\n",
       "        [0.88627451],\n",
       "        [0.85098039],\n",
       "        [0.8745098 ],\n",
       "        [0.87058824],\n",
       "        [0.85882353],\n",
       "        [0.87058824],\n",
       "        [0.86666667],\n",
       "        [0.84705882],\n",
       "        [0.8745098 ],\n",
       "        [0.89803922],\n",
       "        [0.84313725],\n",
       "        [0.85490196],\n",
       "        [1.        ],\n",
       "        [0.30196078],\n",
       "        [0.        ]],\n",
       "\n",
       "       [[0.        ],\n",
       "        [0.01176471],\n",
       "        [0.        ],\n",
       "        [0.        ],\n",
       "        [0.        ],\n",
       "        [0.        ],\n",
       "        [0.        ],\n",
       "        [0.        ],\n",
       "        [0.        ],\n",
       "        [0.24313725],\n",
       "        [0.56862745],\n",
       "        [0.8       ],\n",
       "        [0.89411765],\n",
       "        [0.81176471],\n",
       "        [0.83529412],\n",
       "        [0.86666667],\n",
       "        [0.85490196],\n",
       "        [0.81568627],\n",
       "        [0.82745098],\n",
       "        [0.85490196],\n",
       "        [0.87843137],\n",
       "        [0.8745098 ],\n",
       "        [0.85882353],\n",
       "        [0.84313725],\n",
       "        [0.87843137],\n",
       "        [0.95686275],\n",
       "        [0.62352941],\n",
       "        [0.        ]],\n",
       "\n",
       "       [[0.        ],\n",
       "        [0.        ],\n",
       "        [0.        ],\n",
       "        [0.        ],\n",
       "        [0.07058824],\n",
       "        [0.17254902],\n",
       "        [0.32156863],\n",
       "        [0.41960784],\n",
       "        [0.74117647],\n",
       "        [0.89411765],\n",
       "        [0.8627451 ],\n",
       "        [0.87058824],\n",
       "        [0.85098039],\n",
       "        [0.88627451],\n",
       "        [0.78431373],\n",
       "        [0.80392157],\n",
       "        [0.82745098],\n",
       "        [0.90196078],\n",
       "        [0.87843137],\n",
       "        [0.91764706],\n",
       "        [0.69019608],\n",
       "        [0.7372549 ],\n",
       "        [0.98039216],\n",
       "        [0.97254902],\n",
       "        [0.91372549],\n",
       "        [0.93333333],\n",
       "        [0.84313725],\n",
       "        [0.        ]],\n",
       "\n",
       "       [[0.        ],\n",
       "        [0.22352941],\n",
       "        [0.73333333],\n",
       "        [0.81568627],\n",
       "        [0.87843137],\n",
       "        [0.86666667],\n",
       "        [0.87843137],\n",
       "        [0.81568627],\n",
       "        [0.8       ],\n",
       "        [0.83921569],\n",
       "        [0.81568627],\n",
       "        [0.81960784],\n",
       "        [0.78431373],\n",
       "        [0.62352941],\n",
       "        [0.96078431],\n",
       "        [0.75686275],\n",
       "        [0.80784314],\n",
       "        [0.8745098 ],\n",
       "        [1.        ],\n",
       "        [1.        ],\n",
       "        [0.86666667],\n",
       "        [0.91764706],\n",
       "        [0.86666667],\n",
       "        [0.82745098],\n",
       "        [0.8627451 ],\n",
       "        [0.90980392],\n",
       "        [0.96470588],\n",
       "        [0.        ]],\n",
       "\n",
       "       [[0.01176471],\n",
       "        [0.79215686],\n",
       "        [0.89411765],\n",
       "        [0.87843137],\n",
       "        [0.86666667],\n",
       "        [0.82745098],\n",
       "        [0.82745098],\n",
       "        [0.83921569],\n",
       "        [0.80392157],\n",
       "        [0.80392157],\n",
       "        [0.80392157],\n",
       "        [0.8627451 ],\n",
       "        [0.94117647],\n",
       "        [0.31372549],\n",
       "        [0.58823529],\n",
       "        [1.        ],\n",
       "        [0.89803922],\n",
       "        [0.86666667],\n",
       "        [0.7372549 ],\n",
       "        [0.60392157],\n",
       "        [0.74901961],\n",
       "        [0.82352941],\n",
       "        [0.8       ],\n",
       "        [0.81960784],\n",
       "        [0.87058824],\n",
       "        [0.89411765],\n",
       "        [0.88235294],\n",
       "        [0.        ]],\n",
       "\n",
       "       [[0.38431373],\n",
       "        [0.91372549],\n",
       "        [0.77647059],\n",
       "        [0.82352941],\n",
       "        [0.87058824],\n",
       "        [0.89803922],\n",
       "        [0.89803922],\n",
       "        [0.91764706],\n",
       "        [0.97647059],\n",
       "        [0.8627451 ],\n",
       "        [0.76078431],\n",
       "        [0.84313725],\n",
       "        [0.85098039],\n",
       "        [0.94509804],\n",
       "        [0.25490196],\n",
       "        [0.28627451],\n",
       "        [0.41568627],\n",
       "        [0.45882353],\n",
       "        [0.65882353],\n",
       "        [0.85882353],\n",
       "        [0.86666667],\n",
       "        [0.84313725],\n",
       "        [0.85098039],\n",
       "        [0.8745098 ],\n",
       "        [0.8745098 ],\n",
       "        [0.87843137],\n",
       "        [0.89803922],\n",
       "        [0.11372549]],\n",
       "\n",
       "       [[0.29411765],\n",
       "        [0.8       ],\n",
       "        [0.83137255],\n",
       "        [0.8       ],\n",
       "        [0.75686275],\n",
       "        [0.80392157],\n",
       "        [0.82745098],\n",
       "        [0.88235294],\n",
       "        [0.84705882],\n",
       "        [0.7254902 ],\n",
       "        [0.77254902],\n",
       "        [0.80784314],\n",
       "        [0.77647059],\n",
       "        [0.83529412],\n",
       "        [0.94117647],\n",
       "        [0.76470588],\n",
       "        [0.89019608],\n",
       "        [0.96078431],\n",
       "        [0.9372549 ],\n",
       "        [0.8745098 ],\n",
       "        [0.85490196],\n",
       "        [0.83137255],\n",
       "        [0.81960784],\n",
       "        [0.87058824],\n",
       "        [0.8627451 ],\n",
       "        [0.86666667],\n",
       "        [0.90196078],\n",
       "        [0.2627451 ]],\n",
       "\n",
       "       [[0.18823529],\n",
       "        [0.79607843],\n",
       "        [0.71764706],\n",
       "        [0.76078431],\n",
       "        [0.83529412],\n",
       "        [0.77254902],\n",
       "        [0.7254902 ],\n",
       "        [0.74509804],\n",
       "        [0.76078431],\n",
       "        [0.75294118],\n",
       "        [0.79215686],\n",
       "        [0.83921569],\n",
       "        [0.85882353],\n",
       "        [0.86666667],\n",
       "        [0.8627451 ],\n",
       "        [0.9254902 ],\n",
       "        [0.88235294],\n",
       "        [0.84705882],\n",
       "        [0.78039216],\n",
       "        [0.80784314],\n",
       "        [0.72941176],\n",
       "        [0.70980392],\n",
       "        [0.69411765],\n",
       "        [0.6745098 ],\n",
       "        [0.70980392],\n",
       "        [0.80392157],\n",
       "        [0.80784314],\n",
       "        [0.45098039]],\n",
       "\n",
       "       [[0.        ],\n",
       "        [0.47843137],\n",
       "        [0.85882353],\n",
       "        [0.75686275],\n",
       "        [0.70196078],\n",
       "        [0.67058824],\n",
       "        [0.71764706],\n",
       "        [0.76862745],\n",
       "        [0.8       ],\n",
       "        [0.82352941],\n",
       "        [0.83529412],\n",
       "        [0.81176471],\n",
       "        [0.82745098],\n",
       "        [0.82352941],\n",
       "        [0.78431373],\n",
       "        [0.76862745],\n",
       "        [0.76078431],\n",
       "        [0.74901961],\n",
       "        [0.76470588],\n",
       "        [0.74901961],\n",
       "        [0.77647059],\n",
       "        [0.75294118],\n",
       "        [0.69019608],\n",
       "        [0.61176471],\n",
       "        [0.65490196],\n",
       "        [0.69411765],\n",
       "        [0.82352941],\n",
       "        [0.36078431]],\n",
       "\n",
       "       [[0.        ],\n",
       "        [0.        ],\n",
       "        [0.29019608],\n",
       "        [0.74117647],\n",
       "        [0.83137255],\n",
       "        [0.74901961],\n",
       "        [0.68627451],\n",
       "        [0.6745098 ],\n",
       "        [0.68627451],\n",
       "        [0.70980392],\n",
       "        [0.7254902 ],\n",
       "        [0.7372549 ],\n",
       "        [0.74117647],\n",
       "        [0.7372549 ],\n",
       "        [0.75686275],\n",
       "        [0.77647059],\n",
       "        [0.8       ],\n",
       "        [0.81960784],\n",
       "        [0.82352941],\n",
       "        [0.82352941],\n",
       "        [0.82745098],\n",
       "        [0.7372549 ],\n",
       "        [0.7372549 ],\n",
       "        [0.76078431],\n",
       "        [0.75294118],\n",
       "        [0.84705882],\n",
       "        [0.66666667],\n",
       "        [0.        ]],\n",
       "\n",
       "       [[0.00784314],\n",
       "        [0.        ],\n",
       "        [0.        ],\n",
       "        [0.        ],\n",
       "        [0.25882353],\n",
       "        [0.78431373],\n",
       "        [0.87058824],\n",
       "        [0.92941176],\n",
       "        [0.9372549 ],\n",
       "        [0.94901961],\n",
       "        [0.96470588],\n",
       "        [0.95294118],\n",
       "        [0.95686275],\n",
       "        [0.86666667],\n",
       "        [0.8627451 ],\n",
       "        [0.75686275],\n",
       "        [0.74901961],\n",
       "        [0.70196078],\n",
       "        [0.71372549],\n",
       "        [0.71372549],\n",
       "        [0.70980392],\n",
       "        [0.69019608],\n",
       "        [0.65098039],\n",
       "        [0.65882353],\n",
       "        [0.38823529],\n",
       "        [0.22745098],\n",
       "        [0.        ],\n",
       "        [0.        ]],\n",
       "\n",
       "       [[0.        ],\n",
       "        [0.        ],\n",
       "        [0.        ],\n",
       "        [0.        ],\n",
       "        [0.        ],\n",
       "        [0.        ],\n",
       "        [0.        ],\n",
       "        [0.15686275],\n",
       "        [0.23921569],\n",
       "        [0.17254902],\n",
       "        [0.28235294],\n",
       "        [0.16078431],\n",
       "        [0.1372549 ],\n",
       "        [0.        ],\n",
       "        [0.        ],\n",
       "        [0.        ],\n",
       "        [0.        ],\n",
       "        [0.        ],\n",
       "        [0.        ],\n",
       "        [0.        ],\n",
       "        [0.        ],\n",
       "        [0.        ],\n",
       "        [0.        ],\n",
       "        [0.        ],\n",
       "        [0.        ],\n",
       "        [0.        ],\n",
       "        [0.        ],\n",
       "        [0.        ]],\n",
       "\n",
       "       [[0.        ],\n",
       "        [0.        ],\n",
       "        [0.        ],\n",
       "        [0.        ],\n",
       "        [0.        ],\n",
       "        [0.        ],\n",
       "        [0.        ],\n",
       "        [0.        ],\n",
       "        [0.        ],\n",
       "        [0.        ],\n",
       "        [0.        ],\n",
       "        [0.        ],\n",
       "        [0.        ],\n",
       "        [0.        ],\n",
       "        [0.        ],\n",
       "        [0.        ],\n",
       "        [0.        ],\n",
       "        [0.        ],\n",
       "        [0.        ],\n",
       "        [0.        ],\n",
       "        [0.        ],\n",
       "        [0.        ],\n",
       "        [0.        ],\n",
       "        [0.        ],\n",
       "        [0.        ],\n",
       "        [0.        ],\n",
       "        [0.        ],\n",
       "        [0.        ]],\n",
       "\n",
       "       [[0.        ],\n",
       "        [0.        ],\n",
       "        [0.        ],\n",
       "        [0.        ],\n",
       "        [0.        ],\n",
       "        [0.        ],\n",
       "        [0.        ],\n",
       "        [0.        ],\n",
       "        [0.        ],\n",
       "        [0.        ],\n",
       "        [0.        ],\n",
       "        [0.        ],\n",
       "        [0.        ],\n",
       "        [0.        ],\n",
       "        [0.        ],\n",
       "        [0.        ],\n",
       "        [0.        ],\n",
       "        [0.        ],\n",
       "        [0.        ],\n",
       "        [0.        ],\n",
       "        [0.        ],\n",
       "        [0.        ],\n",
       "        [0.        ],\n",
       "        [0.        ],\n",
       "        [0.        ],\n",
       "        [0.        ],\n",
       "        [0.        ],\n",
       "        [0.        ]]])"
      ]
     },
     "execution_count": 52,
     "metadata": {},
     "output_type": "execute_result"
    }
   ],
   "source": [
    "X_train[0]"
   ]
  },
  {
   "cell_type": "code",
   "execution_count": 53,
   "metadata": {},
   "outputs": [],
   "source": [
    "from sklearn.model_selection import train_test_split\n",
    "X_train, X_val, y_train, y_val = train_test_split(X_train, y_train, test_size=0.2, random_state=101)\n",
    "\n"
   ]
  },
  {
   "cell_type": "code",
   "execution_count": 54,
   "metadata": {},
   "outputs": [
    {
     "data": {
      "text/plain": [
       "((48000, 28, 28, 1), (48000,))"
      ]
     },
     "execution_count": 54,
     "metadata": {},
     "output_type": "execute_result"
    }
   ],
   "source": [
    "X_train.shape, y_train.shape"
   ]
  },
  {
   "cell_type": "code",
   "execution_count": 55,
   "metadata": {},
   "outputs": [
    {
     "data": {
      "text/plain": [
       "((12000, 28, 28, 1), (12000,))"
      ]
     },
     "execution_count": 55,
     "metadata": {},
     "output_type": "execute_result"
    }
   ],
   "source": [
    "X_val.shape, y_val.shape"
   ]
  },
  {
   "cell_type": "markdown",
   "metadata": {},
   "source": [
    "Creating CNN Model"
   ]
  },
  {
   "cell_type": "code",
   "execution_count": 57,
   "metadata": {},
   "outputs": [],
   "source": [
    "height = 128\n",
    "width = 128\n",
    "channels = 3\n",
    "\n",
    "num_classes = 10\n",
    "\n",
    "\n",
    "\n",
    "model = keras.models.Sequential([\n",
    "    keras.layers.Conv2D(filters=64, kernel_size=3, strides=(1,1), padding='same', input_shape=(height, width, channels)),\n",
    "    keras.layers.MaxPooling2D(pool_size=(2,2)),\n",
    "    keras.layers.Conv2D(filters=128, kernel_size=3, strides=(1,1), padding='same'),\n",
    "    keras.layers.MaxPooling2D(pool_size=(2,2)),\n",
    "    keras.layers.Conv2D(filters=64, kernel_size=3, strides=(1,1), padding='same'),\n",
    "    keras.layers.MaxPooling2D(pool_size=(2,2)),\n",
    "    keras.layers.Flatten(),\n",
    "    keras.layers.Dense(units=128, activation='relu'),\n",
    "    keras.layers.Dropout(0.25),\n",
    "    keras.layers.Dense(units=256, activation='relu'),\n",
    "    keras.layers.Dropout(0.5),\n",
    "    keras.layers.Dense(units=256, activation='relu'),\n",
    "    keras.layers.Dropout(0.25),\n",
    "    keras.layers.Dense(units=128, activation='relu'),\n",
    "    keras.layers.Dropout(0.10),\n",
    "    keras.layers.Dense(units=num_classes, activation='softmax')\n",
    "])\n",
    "      "
   ]
  },
  {
   "cell_type": "markdown",
   "metadata": {},
   "source": []
  }
 ],
 "metadata": {
  "kernelspec": {
   "display_name": "base",
   "language": "python",
   "name": "python3"
  },
  "language_info": {
   "codemirror_mode": {
    "name": "ipython",
    "version": 3
   },
   "file_extension": ".py",
   "mimetype": "text/x-python",
   "name": "python",
   "nbconvert_exporter": "python",
   "pygments_lexer": "ipython3",
   "version": "3.9.17"
  }
 },
 "nbformat": 4,
 "nbformat_minor": 2
}
